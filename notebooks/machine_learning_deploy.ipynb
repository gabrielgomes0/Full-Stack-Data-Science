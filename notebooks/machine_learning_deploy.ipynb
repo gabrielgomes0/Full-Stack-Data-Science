{
 "cells": [
  {
   "cell_type": "markdown",
   "id": "ce621a81",
   "metadata": {},
   "source": [
    "## Stack - Projeto Human Resources Analytics"
   ]
  },
  {
   "cell_type": "markdown",
   "id": "6abec21b",
   "metadata": {},
   "source": [
    "### Machine Learning."
   ]
  },
  {
   "cell_type": "code",
   "execution_count": 1,
   "id": "78fff146",
   "metadata": {},
   "outputs": [],
   "source": [
    "import pandas as pd\n",
    "import datetime\n",
    "import glob\n",
    "from minio import Minio\n",
    "import numpy as np\n",
    "import matplotlib.pyplot as plt"
   ]
  },
  {
   "cell_type": "code",
   "execution_count": null,
   "id": "d4c9aa99",
   "metadata": {},
   "outputs": [],
   "source": [
    "pip install pycaret"
   ]
  },
  {
   "cell_type": "code",
   "execution_count": 2,
   "id": "88d46d2d",
   "metadata": {},
   "outputs": [],
   "source": [
    "client = Minio(\n",
    "        \"localhost:9000\",\n",
    "        access_key=\"minioadmin\",\n",
    "        secret_key=\"minioadmin\",\n",
    "        secure=False\n",
    "    )"
   ]
  },
  {
   "cell_type": "markdown",
   "id": "3e1d3a55",
   "metadata": {},
   "source": [
    "### Baixando o Dataset do Data Lake."
   ]
  },
  {
   "cell_type": "code",
   "execution_count": 3,
   "id": "8654ee66",
   "metadata": {},
   "outputs": [],
   "source": [
    "client.fget_object(\n",
    "            \"processing\",\n",
    "            \"employees_dataset.parquet\",\n",
    "            \"temp_.parquet\",\n",
    ")\n",
    "df = pd.read_parquet(\"temp_.parquet\")"
   ]
  },
  {
   "cell_type": "code",
   "execution_count": 4,
   "id": "ecd27d57",
   "metadata": {
    "scrolled": true
   },
   "outputs": [
    {
     "data": {
      "text/html": [
       "<div>\n",
       "<style scoped>\n",
       "    .dataframe tbody tr th:only-of-type {\n",
       "        vertical-align: middle;\n",
       "    }\n",
       "\n",
       "    .dataframe tbody tr th {\n",
       "        vertical-align: top;\n",
       "    }\n",
       "\n",
       "    .dataframe thead th {\n",
       "        text-align: right;\n",
       "    }\n",
       "</style>\n",
       "<table border=\"1\" class=\"dataframe\">\n",
       "  <thead>\n",
       "    <tr style=\"text-align: right;\">\n",
       "      <th></th>\n",
       "      <th>department</th>\n",
       "      <th>salary</th>\n",
       "      <th>left</th>\n",
       "      <th>mean_work_last_3_months</th>\n",
       "      <th>number_projects</th>\n",
       "      <th>satisfaction_level</th>\n",
       "      <th>last_evaluation</th>\n",
       "      <th>time_in_company</th>\n",
       "      <th>work_accident</th>\n",
       "    </tr>\n",
       "  </thead>\n",
       "  <tbody>\n",
       "    <tr>\n",
       "      <th>0</th>\n",
       "      <td>sales</td>\n",
       "      <td>low</td>\n",
       "      <td>1.0</td>\n",
       "      <td>266.000000</td>\n",
       "      <td>2.0</td>\n",
       "      <td>38.0</td>\n",
       "      <td>53.0</td>\n",
       "      <td>3.0</td>\n",
       "      <td>0.0</td>\n",
       "    </tr>\n",
       "    <tr>\n",
       "      <th>1</th>\n",
       "      <td>sales</td>\n",
       "      <td>medium</td>\n",
       "      <td>1.0</td>\n",
       "      <td>252.000000</td>\n",
       "      <td>5.0</td>\n",
       "      <td>80.0</td>\n",
       "      <td>86.0</td>\n",
       "      <td>6.0</td>\n",
       "      <td>0.0</td>\n",
       "    </tr>\n",
       "    <tr>\n",
       "      <th>2</th>\n",
       "      <td>sales</td>\n",
       "      <td>medium</td>\n",
       "      <td>1.0</td>\n",
       "      <td>289.666667</td>\n",
       "      <td>7.0</td>\n",
       "      <td>11.0</td>\n",
       "      <td>88.0</td>\n",
       "      <td>4.0</td>\n",
       "      <td>0.0</td>\n",
       "    </tr>\n",
       "    <tr>\n",
       "      <th>3</th>\n",
       "      <td>sales</td>\n",
       "      <td>low</td>\n",
       "      <td>1.0</td>\n",
       "      <td>275.666667</td>\n",
       "      <td>5.0</td>\n",
       "      <td>72.0</td>\n",
       "      <td>87.0</td>\n",
       "      <td>5.0</td>\n",
       "      <td>0.0</td>\n",
       "    </tr>\n",
       "    <tr>\n",
       "      <th>4</th>\n",
       "      <td>sales</td>\n",
       "      <td>low</td>\n",
       "      <td>1.0</td>\n",
       "      <td>292.333333</td>\n",
       "      <td>2.0</td>\n",
       "      <td>37.0</td>\n",
       "      <td>52.0</td>\n",
       "      <td>3.0</td>\n",
       "      <td>0.0</td>\n",
       "    </tr>\n",
       "  </tbody>\n",
       "</table>\n",
       "</div>"
      ],
      "text/plain": [
       "  department  salary  left  mean_work_last_3_months  number_projects  \\\n",
       "0      sales     low   1.0               266.000000              2.0   \n",
       "1      sales  medium   1.0               252.000000              5.0   \n",
       "2      sales  medium   1.0               289.666667              7.0   \n",
       "3      sales     low   1.0               275.666667              5.0   \n",
       "4      sales     low   1.0               292.333333              2.0   \n",
       "\n",
       "   satisfaction_level  last_evaluation  time_in_company  work_accident  \n",
       "0                38.0             53.0              3.0            0.0  \n",
       "1                80.0             86.0              6.0            0.0  \n",
       "2                11.0             88.0              4.0            0.0  \n",
       "3                72.0             87.0              5.0            0.0  \n",
       "4                37.0             52.0              3.0            0.0  "
      ]
     },
     "execution_count": 4,
     "metadata": {},
     "output_type": "execute_result"
    }
   ],
   "source": [
    "df.head()"
   ]
  },
  {
   "cell_type": "markdown",
   "id": "0c831eb5",
   "metadata": {},
   "source": [
    "#### Organizando o dataset."
   ]
  },
  {
   "cell_type": "code",
   "execution_count": 5,
   "id": "fd255c3b",
   "metadata": {},
   "outputs": [],
   "source": [
    "df = df[['department', 'salary', 'mean_work_last_3_months',\n",
    "       'number_projects', 'satisfaction_level', 'last_evaluation',\n",
    "       'time_in_company', 'work_accident','left']]"
   ]
  },
  {
   "cell_type": "code",
   "execution_count": 6,
   "id": "da9d97b3",
   "metadata": {
    "scrolled": true
   },
   "outputs": [
    {
     "data": {
      "text/html": [
       "<div>\n",
       "<style scoped>\n",
       "    .dataframe tbody tr th:only-of-type {\n",
       "        vertical-align: middle;\n",
       "    }\n",
       "\n",
       "    .dataframe tbody tr th {\n",
       "        vertical-align: top;\n",
       "    }\n",
       "\n",
       "    .dataframe thead th {\n",
       "        text-align: right;\n",
       "    }\n",
       "</style>\n",
       "<table border=\"1\" class=\"dataframe\">\n",
       "  <thead>\n",
       "    <tr style=\"text-align: right;\">\n",
       "      <th></th>\n",
       "      <th>department</th>\n",
       "      <th>salary</th>\n",
       "      <th>mean_work_last_3_months</th>\n",
       "      <th>number_projects</th>\n",
       "      <th>satisfaction_level</th>\n",
       "      <th>last_evaluation</th>\n",
       "      <th>time_in_company</th>\n",
       "      <th>work_accident</th>\n",
       "      <th>left</th>\n",
       "    </tr>\n",
       "  </thead>\n",
       "  <tbody>\n",
       "    <tr>\n",
       "      <th>0</th>\n",
       "      <td>sales</td>\n",
       "      <td>low</td>\n",
       "      <td>266.000000</td>\n",
       "      <td>2.0</td>\n",
       "      <td>38.0</td>\n",
       "      <td>53.0</td>\n",
       "      <td>3.0</td>\n",
       "      <td>0.0</td>\n",
       "      <td>1.0</td>\n",
       "    </tr>\n",
       "    <tr>\n",
       "      <th>1</th>\n",
       "      <td>sales</td>\n",
       "      <td>medium</td>\n",
       "      <td>252.000000</td>\n",
       "      <td>5.0</td>\n",
       "      <td>80.0</td>\n",
       "      <td>86.0</td>\n",
       "      <td>6.0</td>\n",
       "      <td>0.0</td>\n",
       "      <td>1.0</td>\n",
       "    </tr>\n",
       "    <tr>\n",
       "      <th>2</th>\n",
       "      <td>sales</td>\n",
       "      <td>medium</td>\n",
       "      <td>289.666667</td>\n",
       "      <td>7.0</td>\n",
       "      <td>11.0</td>\n",
       "      <td>88.0</td>\n",
       "      <td>4.0</td>\n",
       "      <td>0.0</td>\n",
       "      <td>1.0</td>\n",
       "    </tr>\n",
       "    <tr>\n",
       "      <th>3</th>\n",
       "      <td>sales</td>\n",
       "      <td>low</td>\n",
       "      <td>275.666667</td>\n",
       "      <td>5.0</td>\n",
       "      <td>72.0</td>\n",
       "      <td>87.0</td>\n",
       "      <td>5.0</td>\n",
       "      <td>0.0</td>\n",
       "      <td>1.0</td>\n",
       "    </tr>\n",
       "    <tr>\n",
       "      <th>4</th>\n",
       "      <td>sales</td>\n",
       "      <td>low</td>\n",
       "      <td>292.333333</td>\n",
       "      <td>2.0</td>\n",
       "      <td>37.0</td>\n",
       "      <td>52.0</td>\n",
       "      <td>3.0</td>\n",
       "      <td>0.0</td>\n",
       "      <td>1.0</td>\n",
       "    </tr>\n",
       "  </tbody>\n",
       "</table>\n",
       "</div>"
      ],
      "text/plain": [
       "  department  salary  mean_work_last_3_months  number_projects  \\\n",
       "0      sales     low               266.000000              2.0   \n",
       "1      sales  medium               252.000000              5.0   \n",
       "2      sales  medium               289.666667              7.0   \n",
       "3      sales     low               275.666667              5.0   \n",
       "4      sales     low               292.333333              2.0   \n",
       "\n",
       "   satisfaction_level  last_evaluation  time_in_company  work_accident  left  \n",
       "0                38.0             53.0              3.0            0.0   1.0  \n",
       "1                80.0             86.0              6.0            0.0   1.0  \n",
       "2                11.0             88.0              4.0            0.0   1.0  \n",
       "3                72.0             87.0              5.0            0.0   1.0  \n",
       "4                37.0             52.0              3.0            0.0   1.0  "
      ]
     },
     "execution_count": 6,
     "metadata": {},
     "output_type": "execute_result"
    }
   ],
   "source": [
    "df.head()"
   ]
  },
  {
   "cell_type": "markdown",
   "id": "a5bd9e7a",
   "metadata": {},
   "source": [
    "#### Verificando os registros missing."
   ]
  },
  {
   "cell_type": "code",
   "execution_count": 7,
   "id": "07acbeef",
   "metadata": {},
   "outputs": [
    {
     "data": {
      "text/plain": [
       "department                 1\n",
       "salary                     1\n",
       "mean_work_last_3_months    0\n",
       "number_projects            1\n",
       "satisfaction_level         1\n",
       "last_evaluation            1\n",
       "time_in_company            1\n",
       "work_accident              1\n",
       "left                       1\n",
       "dtype: int64"
      ]
     },
     "execution_count": 7,
     "metadata": {},
     "output_type": "execute_result"
    }
   ],
   "source": [
    "df.isnull().sum()"
   ]
  },
  {
   "cell_type": "code",
   "execution_count": 8,
   "id": "f2b2d851",
   "metadata": {},
   "outputs": [
    {
     "data": {
      "text/html": [
       "<div>\n",
       "<style scoped>\n",
       "    .dataframe tbody tr th:only-of-type {\n",
       "        vertical-align: middle;\n",
       "    }\n",
       "\n",
       "    .dataframe tbody tr th {\n",
       "        vertical-align: top;\n",
       "    }\n",
       "\n",
       "    .dataframe thead th {\n",
       "        text-align: right;\n",
       "    }\n",
       "</style>\n",
       "<table border=\"1\" class=\"dataframe\">\n",
       "  <thead>\n",
       "    <tr style=\"text-align: right;\">\n",
       "      <th></th>\n",
       "      <th>department</th>\n",
       "      <th>salary</th>\n",
       "      <th>mean_work_last_3_months</th>\n",
       "      <th>number_projects</th>\n",
       "      <th>satisfaction_level</th>\n",
       "      <th>last_evaluation</th>\n",
       "      <th>time_in_company</th>\n",
       "      <th>work_accident</th>\n",
       "      <th>left</th>\n",
       "    </tr>\n",
       "  </thead>\n",
       "  <tbody>\n",
       "    <tr>\n",
       "      <th>0</th>\n",
       "      <td>sales</td>\n",
       "      <td>low</td>\n",
       "      <td>266.000000</td>\n",
       "      <td>2.0</td>\n",
       "      <td>38.0</td>\n",
       "      <td>53.0</td>\n",
       "      <td>3.0</td>\n",
       "      <td>0.0</td>\n",
       "      <td>1.0</td>\n",
       "    </tr>\n",
       "    <tr>\n",
       "      <th>1</th>\n",
       "      <td>sales</td>\n",
       "      <td>medium</td>\n",
       "      <td>252.000000</td>\n",
       "      <td>5.0</td>\n",
       "      <td>80.0</td>\n",
       "      <td>86.0</td>\n",
       "      <td>6.0</td>\n",
       "      <td>0.0</td>\n",
       "      <td>1.0</td>\n",
       "    </tr>\n",
       "    <tr>\n",
       "      <th>2</th>\n",
       "      <td>sales</td>\n",
       "      <td>medium</td>\n",
       "      <td>289.666667</td>\n",
       "      <td>7.0</td>\n",
       "      <td>11.0</td>\n",
       "      <td>88.0</td>\n",
       "      <td>4.0</td>\n",
       "      <td>0.0</td>\n",
       "      <td>1.0</td>\n",
       "    </tr>\n",
       "    <tr>\n",
       "      <th>3</th>\n",
       "      <td>sales</td>\n",
       "      <td>low</td>\n",
       "      <td>275.666667</td>\n",
       "      <td>5.0</td>\n",
       "      <td>72.0</td>\n",
       "      <td>87.0</td>\n",
       "      <td>5.0</td>\n",
       "      <td>0.0</td>\n",
       "      <td>1.0</td>\n",
       "    </tr>\n",
       "    <tr>\n",
       "      <th>4</th>\n",
       "      <td>sales</td>\n",
       "      <td>low</td>\n",
       "      <td>292.333333</td>\n",
       "      <td>2.0</td>\n",
       "      <td>37.0</td>\n",
       "      <td>52.0</td>\n",
       "      <td>3.0</td>\n",
       "      <td>0.0</td>\n",
       "      <td>1.0</td>\n",
       "    </tr>\n",
       "    <tr>\n",
       "      <th>...</th>\n",
       "      <td>...</td>\n",
       "      <td>...</td>\n",
       "      <td>...</td>\n",
       "      <td>...</td>\n",
       "      <td>...</td>\n",
       "      <td>...</td>\n",
       "      <td>...</td>\n",
       "      <td>...</td>\n",
       "      <td>...</td>\n",
       "    </tr>\n",
       "    <tr>\n",
       "      <th>14995</th>\n",
       "      <td>support</td>\n",
       "      <td>low</td>\n",
       "      <td>253.333333</td>\n",
       "      <td>2.0</td>\n",
       "      <td>37.0</td>\n",
       "      <td>48.0</td>\n",
       "      <td>3.0</td>\n",
       "      <td>0.0</td>\n",
       "      <td>1.0</td>\n",
       "    </tr>\n",
       "    <tr>\n",
       "      <th>14996</th>\n",
       "      <td>support</td>\n",
       "      <td>low</td>\n",
       "      <td>288.000000</td>\n",
       "      <td>2.0</td>\n",
       "      <td>37.0</td>\n",
       "      <td>53.0</td>\n",
       "      <td>3.0</td>\n",
       "      <td>0.0</td>\n",
       "      <td>1.0</td>\n",
       "    </tr>\n",
       "    <tr>\n",
       "      <th>14997</th>\n",
       "      <td>support</td>\n",
       "      <td>low</td>\n",
       "      <td>272.000000</td>\n",
       "      <td>6.0</td>\n",
       "      <td>11.0</td>\n",
       "      <td>96.0</td>\n",
       "      <td>4.0</td>\n",
       "      <td>0.0</td>\n",
       "      <td>1.0</td>\n",
       "    </tr>\n",
       "    <tr>\n",
       "      <th>14998</th>\n",
       "      <td>support</td>\n",
       "      <td>low</td>\n",
       "      <td>276.666667</td>\n",
       "      <td>2.0</td>\n",
       "      <td>37.0</td>\n",
       "      <td>52.0</td>\n",
       "      <td>3.0</td>\n",
       "      <td>0.0</td>\n",
       "      <td>1.0</td>\n",
       "    </tr>\n",
       "    <tr>\n",
       "      <th>14999</th>\n",
       "      <td>NaN</td>\n",
       "      <td>NaN</td>\n",
       "      <td>261.000000</td>\n",
       "      <td>NaN</td>\n",
       "      <td>NaN</td>\n",
       "      <td>NaN</td>\n",
       "      <td>NaN</td>\n",
       "      <td>NaN</td>\n",
       "      <td>NaN</td>\n",
       "    </tr>\n",
       "  </tbody>\n",
       "</table>\n",
       "<p>15000 rows × 9 columns</p>\n",
       "</div>"
      ],
      "text/plain": [
       "      department  salary  mean_work_last_3_months  number_projects  \\\n",
       "0          sales     low               266.000000              2.0   \n",
       "1          sales  medium               252.000000              5.0   \n",
       "2          sales  medium               289.666667              7.0   \n",
       "3          sales     low               275.666667              5.0   \n",
       "4          sales     low               292.333333              2.0   \n",
       "...          ...     ...                      ...              ...   \n",
       "14995    support     low               253.333333              2.0   \n",
       "14996    support     low               288.000000              2.0   \n",
       "14997    support     low               272.000000              6.0   \n",
       "14998    support     low               276.666667              2.0   \n",
       "14999        NaN     NaN               261.000000              NaN   \n",
       "\n",
       "       satisfaction_level  last_evaluation  time_in_company  work_accident  \\\n",
       "0                    38.0             53.0              3.0            0.0   \n",
       "1                    80.0             86.0              6.0            0.0   \n",
       "2                    11.0             88.0              4.0            0.0   \n",
       "3                    72.0             87.0              5.0            0.0   \n",
       "4                    37.0             52.0              3.0            0.0   \n",
       "...                   ...              ...              ...            ...   \n",
       "14995                37.0             48.0              3.0            0.0   \n",
       "14996                37.0             53.0              3.0            0.0   \n",
       "14997                11.0             96.0              4.0            0.0   \n",
       "14998                37.0             52.0              3.0            0.0   \n",
       "14999                 NaN              NaN              NaN            NaN   \n",
       "\n",
       "       left  \n",
       "0       1.0  \n",
       "1       1.0  \n",
       "2       1.0  \n",
       "3       1.0  \n",
       "4       1.0  \n",
       "...     ...  \n",
       "14995   1.0  \n",
       "14996   1.0  \n",
       "14997   1.0  \n",
       "14998   1.0  \n",
       "14999   NaN  \n",
       "\n",
       "[15000 rows x 9 columns]"
      ]
     },
     "execution_count": 8,
     "metadata": {},
     "output_type": "execute_result"
    }
   ],
   "source": [
    "df[df.notnull()]"
   ]
  },
  {
   "cell_type": "code",
   "execution_count": 9,
   "id": "73341049",
   "metadata": {},
   "outputs": [],
   "source": [
    "df = df[:14998]"
   ]
  },
  {
   "cell_type": "markdown",
   "id": "084b0b20",
   "metadata": {},
   "source": [
    "#### Alterando os tipos de dados."
   ]
  },
  {
   "cell_type": "code",
   "execution_count": 10,
   "id": "337f645c",
   "metadata": {},
   "outputs": [],
   "source": [
    "df[\"number_projects\"] = df[\"number_projects\"].astype(int)\n",
    "df[\"mean_work_last_3_months\"] = df[\"mean_work_last_3_months\"].astype(int)\n",
    "df[\"time_in_company\"] = df[\"time_in_company\"].astype(int)\n",
    "df[\"work_accident\"] = df[\"work_accident\"].astype(int)\n",
    "df[\"left\"] = df[\"left\"].astype(int)"
   ]
  },
  {
   "cell_type": "code",
   "execution_count": 11,
   "id": "a5ac455b",
   "metadata": {},
   "outputs": [
    {
     "name": "stdout",
     "output_type": "stream",
     "text": [
      "<class 'pandas.core.frame.DataFrame'>\n",
      "RangeIndex: 14998 entries, 0 to 14997\n",
      "Data columns (total 9 columns):\n",
      " #   Column                   Non-Null Count  Dtype  \n",
      "---  ------                   --------------  -----  \n",
      " 0   department               14998 non-null  object \n",
      " 1   salary                   14998 non-null  object \n",
      " 2   mean_work_last_3_months  14998 non-null  int32  \n",
      " 3   number_projects          14998 non-null  int32  \n",
      " 4   satisfaction_level       14998 non-null  float64\n",
      " 5   last_evaluation          14998 non-null  float64\n",
      " 6   time_in_company          14998 non-null  int32  \n",
      " 7   work_accident            14998 non-null  int32  \n",
      " 8   left                     14998 non-null  int32  \n",
      "dtypes: float64(2), int32(5), object(2)\n",
      "memory usage: 761.7+ KB\n"
     ]
    }
   ],
   "source": [
    "df.info()"
   ]
  },
  {
   "cell_type": "code",
   "execution_count": 12,
   "id": "93bfc120",
   "metadata": {},
   "outputs": [
    {
     "data": {
      "text/html": [
       "<div>\n",
       "<style scoped>\n",
       "    .dataframe tbody tr th:only-of-type {\n",
       "        vertical-align: middle;\n",
       "    }\n",
       "\n",
       "    .dataframe tbody tr th {\n",
       "        vertical-align: top;\n",
       "    }\n",
       "\n",
       "    .dataframe thead th {\n",
       "        text-align: right;\n",
       "    }\n",
       "</style>\n",
       "<table border=\"1\" class=\"dataframe\">\n",
       "  <thead>\n",
       "    <tr style=\"text-align: right;\">\n",
       "      <th></th>\n",
       "      <th>department</th>\n",
       "      <th>salary</th>\n",
       "      <th>mean_work_last_3_months</th>\n",
       "      <th>number_projects</th>\n",
       "      <th>satisfaction_level</th>\n",
       "      <th>last_evaluation</th>\n",
       "      <th>time_in_company</th>\n",
       "      <th>work_accident</th>\n",
       "      <th>left</th>\n",
       "    </tr>\n",
       "  </thead>\n",
       "  <tbody>\n",
       "    <tr>\n",
       "      <th>0</th>\n",
       "      <td>sales</td>\n",
       "      <td>low</td>\n",
       "      <td>266</td>\n",
       "      <td>2</td>\n",
       "      <td>38.0</td>\n",
       "      <td>53.0</td>\n",
       "      <td>3</td>\n",
       "      <td>0</td>\n",
       "      <td>1</td>\n",
       "    </tr>\n",
       "    <tr>\n",
       "      <th>1</th>\n",
       "      <td>sales</td>\n",
       "      <td>medium</td>\n",
       "      <td>252</td>\n",
       "      <td>5</td>\n",
       "      <td>80.0</td>\n",
       "      <td>86.0</td>\n",
       "      <td>6</td>\n",
       "      <td>0</td>\n",
       "      <td>1</td>\n",
       "    </tr>\n",
       "    <tr>\n",
       "      <th>2</th>\n",
       "      <td>sales</td>\n",
       "      <td>medium</td>\n",
       "      <td>289</td>\n",
       "      <td>7</td>\n",
       "      <td>11.0</td>\n",
       "      <td>88.0</td>\n",
       "      <td>4</td>\n",
       "      <td>0</td>\n",
       "      <td>1</td>\n",
       "    </tr>\n",
       "    <tr>\n",
       "      <th>3</th>\n",
       "      <td>sales</td>\n",
       "      <td>low</td>\n",
       "      <td>275</td>\n",
       "      <td>5</td>\n",
       "      <td>72.0</td>\n",
       "      <td>87.0</td>\n",
       "      <td>5</td>\n",
       "      <td>0</td>\n",
       "      <td>1</td>\n",
       "    </tr>\n",
       "    <tr>\n",
       "      <th>4</th>\n",
       "      <td>sales</td>\n",
       "      <td>low</td>\n",
       "      <td>292</td>\n",
       "      <td>2</td>\n",
       "      <td>37.0</td>\n",
       "      <td>52.0</td>\n",
       "      <td>3</td>\n",
       "      <td>0</td>\n",
       "      <td>1</td>\n",
       "    </tr>\n",
       "  </tbody>\n",
       "</table>\n",
       "</div>"
      ],
      "text/plain": [
       "  department  salary  mean_work_last_3_months  number_projects  \\\n",
       "0      sales     low                      266                2   \n",
       "1      sales  medium                      252                5   \n",
       "2      sales  medium                      289                7   \n",
       "3      sales     low                      275                5   \n",
       "4      sales     low                      292                2   \n",
       "\n",
       "   satisfaction_level  last_evaluation  time_in_company  work_accident  left  \n",
       "0                38.0             53.0                3              0     1  \n",
       "1                80.0             86.0                6              0     1  \n",
       "2                11.0             88.0                4              0     1  \n",
       "3                72.0             87.0                5              0     1  \n",
       "4                37.0             52.0                3              0     1  "
      ]
     },
     "execution_count": 12,
     "metadata": {},
     "output_type": "execute_result"
    }
   ],
   "source": [
    "df.head()"
   ]
  },
  {
   "cell_type": "code",
   "execution_count": 13,
   "id": "ea9e88c0",
   "metadata": {},
   "outputs": [],
   "source": [
    "df = df[:14998]"
   ]
  },
  {
   "cell_type": "markdown",
   "id": "5d3973a1",
   "metadata": {},
   "source": [
    "#### Renomeando atributos"
   ]
  },
  {
   "cell_type": "code",
   "execution_count": 14,
   "id": "b778809b",
   "metadata": {},
   "outputs": [],
   "source": [
    "df = df.rename(columns={'satisfaction_level': 'satisfaction', \n",
    "                        'last_evaluation': 'evaluation',\n",
    "                        'number_projects': 'projectCount',\n",
    "                        'mean_work_last_3_months': 'averageMonthlyHours',\n",
    "                        'time_in_company': 'yearsAtCompany',\n",
    "                        'work_accident': 'workAccident',\n",
    "                        'left' : 'turnover'\n",
    "                        })"
   ]
  },
  {
   "cell_type": "code",
   "execution_count": 15,
   "id": "372c78ee",
   "metadata": {
    "scrolled": true
   },
   "outputs": [
    {
     "data": {
      "text/html": [
       "<div>\n",
       "<style scoped>\n",
       "    .dataframe tbody tr th:only-of-type {\n",
       "        vertical-align: middle;\n",
       "    }\n",
       "\n",
       "    .dataframe tbody tr th {\n",
       "        vertical-align: top;\n",
       "    }\n",
       "\n",
       "    .dataframe thead th {\n",
       "        text-align: right;\n",
       "    }\n",
       "</style>\n",
       "<table border=\"1\" class=\"dataframe\">\n",
       "  <thead>\n",
       "    <tr style=\"text-align: right;\">\n",
       "      <th></th>\n",
       "      <th>department</th>\n",
       "      <th>salary</th>\n",
       "      <th>averageMonthlyHours</th>\n",
       "      <th>projectCount</th>\n",
       "      <th>satisfaction</th>\n",
       "      <th>evaluation</th>\n",
       "      <th>yearsAtCompany</th>\n",
       "      <th>workAccident</th>\n",
       "      <th>turnover</th>\n",
       "    </tr>\n",
       "  </thead>\n",
       "  <tbody>\n",
       "    <tr>\n",
       "      <th>0</th>\n",
       "      <td>sales</td>\n",
       "      <td>low</td>\n",
       "      <td>266</td>\n",
       "      <td>2</td>\n",
       "      <td>38.0</td>\n",
       "      <td>53.0</td>\n",
       "      <td>3</td>\n",
       "      <td>0</td>\n",
       "      <td>1</td>\n",
       "    </tr>\n",
       "    <tr>\n",
       "      <th>1</th>\n",
       "      <td>sales</td>\n",
       "      <td>medium</td>\n",
       "      <td>252</td>\n",
       "      <td>5</td>\n",
       "      <td>80.0</td>\n",
       "      <td>86.0</td>\n",
       "      <td>6</td>\n",
       "      <td>0</td>\n",
       "      <td>1</td>\n",
       "    </tr>\n",
       "    <tr>\n",
       "      <th>2</th>\n",
       "      <td>sales</td>\n",
       "      <td>medium</td>\n",
       "      <td>289</td>\n",
       "      <td>7</td>\n",
       "      <td>11.0</td>\n",
       "      <td>88.0</td>\n",
       "      <td>4</td>\n",
       "      <td>0</td>\n",
       "      <td>1</td>\n",
       "    </tr>\n",
       "    <tr>\n",
       "      <th>3</th>\n",
       "      <td>sales</td>\n",
       "      <td>low</td>\n",
       "      <td>275</td>\n",
       "      <td>5</td>\n",
       "      <td>72.0</td>\n",
       "      <td>87.0</td>\n",
       "      <td>5</td>\n",
       "      <td>0</td>\n",
       "      <td>1</td>\n",
       "    </tr>\n",
       "    <tr>\n",
       "      <th>4</th>\n",
       "      <td>sales</td>\n",
       "      <td>low</td>\n",
       "      <td>292</td>\n",
       "      <td>2</td>\n",
       "      <td>37.0</td>\n",
       "      <td>52.0</td>\n",
       "      <td>3</td>\n",
       "      <td>0</td>\n",
       "      <td>1</td>\n",
       "    </tr>\n",
       "  </tbody>\n",
       "</table>\n",
       "</div>"
      ],
      "text/plain": [
       "  department  salary  averageMonthlyHours  projectCount  satisfaction  \\\n",
       "0      sales     low                  266             2          38.0   \n",
       "1      sales  medium                  252             5          80.0   \n",
       "2      sales  medium                  289             7          11.0   \n",
       "3      sales     low                  275             5          72.0   \n",
       "4      sales     low                  292             2          37.0   \n",
       "\n",
       "   evaluation  yearsAtCompany  workAccident  turnover  \n",
       "0        53.0               3             0         1  \n",
       "1        86.0               6             0         1  \n",
       "2        88.0               4             0         1  \n",
       "3        87.0               5             0         1  \n",
       "4        52.0               3             0         1  "
      ]
     },
     "execution_count": 15,
     "metadata": {},
     "output_type": "execute_result"
    }
   ],
   "source": [
    "df.head()"
   ]
  },
  {
   "cell_type": "markdown",
   "id": "456e3dc8",
   "metadata": {},
   "source": [
    "## Preprocessamento"
   ]
  },
  {
   "cell_type": "markdown",
   "id": "00cf01a9",
   "metadata": {},
   "source": [
    "#### Converte os atributos categoricos valores numéricos."
   ]
  },
  {
   "cell_type": "code",
   "execution_count": 16,
   "id": "59a8e25c",
   "metadata": {},
   "outputs": [],
   "source": [
    "df[\"department\"] = df[\"department\"].astype('category').cat.codes\n",
    "df[\"salary\"] = df[\"salary\"].astype('category').cat.codes"
   ]
  },
  {
   "cell_type": "code",
   "execution_count": 17,
   "id": "2270f287",
   "metadata": {},
   "outputs": [
    {
     "data": {
      "text/html": [
       "<div>\n",
       "<style scoped>\n",
       "    .dataframe tbody tr th:only-of-type {\n",
       "        vertical-align: middle;\n",
       "    }\n",
       "\n",
       "    .dataframe tbody tr th {\n",
       "        vertical-align: top;\n",
       "    }\n",
       "\n",
       "    .dataframe thead th {\n",
       "        text-align: right;\n",
       "    }\n",
       "</style>\n",
       "<table border=\"1\" class=\"dataframe\">\n",
       "  <thead>\n",
       "    <tr style=\"text-align: right;\">\n",
       "      <th></th>\n",
       "      <th>department</th>\n",
       "      <th>salary</th>\n",
       "      <th>averageMonthlyHours</th>\n",
       "      <th>projectCount</th>\n",
       "      <th>satisfaction</th>\n",
       "      <th>evaluation</th>\n",
       "      <th>yearsAtCompany</th>\n",
       "      <th>workAccident</th>\n",
       "      <th>turnover</th>\n",
       "    </tr>\n",
       "  </thead>\n",
       "  <tbody>\n",
       "    <tr>\n",
       "      <th>0</th>\n",
       "      <td>7</td>\n",
       "      <td>1</td>\n",
       "      <td>266</td>\n",
       "      <td>2</td>\n",
       "      <td>38.0</td>\n",
       "      <td>53.0</td>\n",
       "      <td>3</td>\n",
       "      <td>0</td>\n",
       "      <td>1</td>\n",
       "    </tr>\n",
       "    <tr>\n",
       "      <th>1</th>\n",
       "      <td>7</td>\n",
       "      <td>2</td>\n",
       "      <td>252</td>\n",
       "      <td>5</td>\n",
       "      <td>80.0</td>\n",
       "      <td>86.0</td>\n",
       "      <td>6</td>\n",
       "      <td>0</td>\n",
       "      <td>1</td>\n",
       "    </tr>\n",
       "    <tr>\n",
       "      <th>2</th>\n",
       "      <td>7</td>\n",
       "      <td>2</td>\n",
       "      <td>289</td>\n",
       "      <td>7</td>\n",
       "      <td>11.0</td>\n",
       "      <td>88.0</td>\n",
       "      <td>4</td>\n",
       "      <td>0</td>\n",
       "      <td>1</td>\n",
       "    </tr>\n",
       "    <tr>\n",
       "      <th>3</th>\n",
       "      <td>7</td>\n",
       "      <td>1</td>\n",
       "      <td>275</td>\n",
       "      <td>5</td>\n",
       "      <td>72.0</td>\n",
       "      <td>87.0</td>\n",
       "      <td>5</td>\n",
       "      <td>0</td>\n",
       "      <td>1</td>\n",
       "    </tr>\n",
       "    <tr>\n",
       "      <th>4</th>\n",
       "      <td>7</td>\n",
       "      <td>1</td>\n",
       "      <td>292</td>\n",
       "      <td>2</td>\n",
       "      <td>37.0</td>\n",
       "      <td>52.0</td>\n",
       "      <td>3</td>\n",
       "      <td>0</td>\n",
       "      <td>1</td>\n",
       "    </tr>\n",
       "  </tbody>\n",
       "</table>\n",
       "</div>"
      ],
      "text/plain": [
       "   department  salary  averageMonthlyHours  projectCount  satisfaction  \\\n",
       "0           7       1                  266             2          38.0   \n",
       "1           7       2                  252             5          80.0   \n",
       "2           7       2                  289             7          11.0   \n",
       "3           7       1                  275             5          72.0   \n",
       "4           7       1                  292             2          37.0   \n",
       "\n",
       "   evaluation  yearsAtCompany  workAccident  turnover  \n",
       "0        53.0               3             0         1  \n",
       "1        86.0               6             0         1  \n",
       "2        88.0               4             0         1  \n",
       "3        87.0               5             0         1  \n",
       "4        52.0               3             0         1  "
      ]
     },
     "execution_count": 17,
     "metadata": {},
     "output_type": "execute_result"
    }
   ],
   "source": [
    "df.head()"
   ]
  },
  {
   "cell_type": "markdown",
   "id": "c83ea92e",
   "metadata": {},
   "source": [
    "#### Separando os conjuntos de dados."
   ]
  },
  {
   "cell_type": "code",
   "execution_count": 18,
   "id": "91883779",
   "metadata": {},
   "outputs": [],
   "source": [
    "target_name = 'turnover'\n",
    "X = df.drop('turnover', axis=1)\n",
    "y = df[target_name]"
   ]
  },
  {
   "cell_type": "markdown",
   "id": "ab4e78dc",
   "metadata": {},
   "source": [
    "#### Transformando os dados."
   ]
  },
  {
   "cell_type": "code",
   "execution_count": 19,
   "id": "472b3202",
   "metadata": {},
   "outputs": [],
   "source": [
    "from sklearn.preprocessing import MinMaxScaler"
   ]
  },
  {
   "cell_type": "code",
   "execution_count": 20,
   "id": "0883c04e",
   "metadata": {},
   "outputs": [],
   "source": [
    "scaler = MinMaxScaler()"
   ]
  },
  {
   "cell_type": "code",
   "execution_count": 21,
   "id": "73049ead",
   "metadata": {},
   "outputs": [],
   "source": [
    "X = scaler.fit_transform(X)"
   ]
  },
  {
   "cell_type": "code",
   "execution_count": 22,
   "id": "0087f07d",
   "metadata": {},
   "outputs": [
    {
     "data": {
      "text/plain": [
       "array([[0.77777778, 0.5       , 0.38202247, ..., 0.265625  , 0.125     ,\n",
       "        0.        ],\n",
       "       [0.77777778, 1.        , 0.2247191 , ..., 0.78125   , 0.5       ,\n",
       "        0.        ],\n",
       "       [0.77777778, 1.        , 0.64044944, ..., 0.8125    , 0.25      ,\n",
       "        0.        ],\n",
       "       ...,\n",
       "       [0.88888889, 0.5       , 0.23595506, ..., 0.1875    , 0.125     ,\n",
       "        0.        ],\n",
       "       [0.88888889, 0.5       , 0.62921348, ..., 0.265625  , 0.125     ,\n",
       "        0.        ],\n",
       "       [0.88888889, 0.5       , 0.4494382 , ..., 0.9375    , 0.25      ,\n",
       "        0.        ]])"
      ]
     },
     "execution_count": 22,
     "metadata": {},
     "output_type": "execute_result"
    }
   ],
   "source": [
    "X"
   ]
  },
  {
   "cell_type": "markdown",
   "id": "e48cc8db",
   "metadata": {},
   "source": [
    "### Separando os conjuntos de dados."
   ]
  },
  {
   "cell_type": "markdown",
   "id": "e348e0be",
   "metadata": {},
   "source": [
    "<img src=\"https://www.researchgate.net/profile/Brian-Mwandau/publication/325870973/figure/fig6/AS:639531594285060@1529487622235/Train-Test-Data-Split.png\" align=\"left\">"
   ]
  },
  {
   "cell_type": "code",
   "execution_count": 23,
   "id": "f3cd2ed1",
   "metadata": {},
   "outputs": [],
   "source": [
    "from sklearn.model_selection import train_test_split"
   ]
  },
  {
   "cell_type": "code",
   "execution_count": 24,
   "id": "e6ff069f",
   "metadata": {},
   "outputs": [],
   "source": [
    "X_train, X_test, y_train, y_test = train_test_split(\n",
    "        X\n",
    "       ,y\n",
    "       ,test_size = 0.2\n",
    "       ,random_state = 123\n",
    "       ,stratify = y\n",
    ")"
   ]
  },
  {
   "cell_type": "markdown",
   "id": "b8042ce1",
   "metadata": {},
   "source": [
    "#### Treinando o algoritmo de arvore de decisão."
   ]
  },
  {
   "cell_type": "code",
   "execution_count": 25,
   "id": "d305a4fa",
   "metadata": {},
   "outputs": [],
   "source": [
    "from sklearn.tree import DecisionTreeClassifier"
   ]
  },
  {
   "cell_type": "code",
   "execution_count": 26,
   "id": "fb7bfadd",
   "metadata": {},
   "outputs": [],
   "source": [
    "dtree = DecisionTreeClassifier()\n",
    "dtree = dtree.fit(X_train,y_train)"
   ]
  },
  {
   "cell_type": "code",
   "execution_count": 27,
   "id": "9107ff87",
   "metadata": {},
   "outputs": [],
   "source": [
    "importances = dtree.feature_importances_\n",
    "feat_names = df.drop(['turnover'],axis=1).columns"
   ]
  },
  {
   "cell_type": "code",
   "execution_count": 28,
   "id": "24722e42",
   "metadata": {},
   "outputs": [
    {
     "data": {
      "image/png": "[encoded data removed]",
      "text/plain": [
       "<Figure size 864x288 with 1 Axes>"
      ]
     },
     "metadata": {
      "needs_background": "light"
     },
     "output_type": "display_data"
    }
   ],
   "source": [
    "indices = np.argsort(importances)[::-1]\n",
    "plt.figure(figsize=(12,4))\n",
    "plt.title(\"Feature importances by DecisionTreeClassifier\")\n",
    "plt.bar(range(len(indices)), importances[indices], color='lightblue',  align=\"center\")\n",
    "plt.xticks(range(len(indices)), feat_names[indices], rotation='vertical',fontsize=14)\n",
    "plt.xlim([-1, len(indices)])\n",
    "plt.show()"
   ]
  },
  {
   "cell_type": "markdown",
   "id": "524d5648",
   "metadata": {},
   "source": [
    "#### Filtrando apenas os atributos relevantes."
   ]
  },
  {
   "cell_type": "code",
   "execution_count": 29,
   "id": "2732b91e",
   "metadata": {},
   "outputs": [],
   "source": [
    "X = df[[\"satisfaction\",\"evaluation\",\"averageMonthlyHours\",\"yearsAtCompany\"]]"
   ]
  },
  {
   "cell_type": "markdown",
   "id": "7971e92c",
   "metadata": {},
   "source": [
    "#### Separando os conjuntos de dados."
   ]
  },
  {
   "cell_type": "code",
   "execution_count": 30,
   "id": "0a7569ef",
   "metadata": {},
   "outputs": [],
   "source": [
    "scaler = MinMaxScaler()"
   ]
  },
  {
   "cell_type": "code",
   "execution_count": 31,
   "id": "ff6b8998",
   "metadata": {},
   "outputs": [],
   "source": [
    "X = scaler.fit_transform(X)"
   ]
  },
  {
   "cell_type": "code",
   "execution_count": 32,
   "id": "ead1f3e0",
   "metadata": {},
   "outputs": [],
   "source": [
    "X_train, X_test, y_train, y_test = train_test_split(\n",
    "        X\n",
    "       ,y\n",
    "       ,test_size = 0.2\n",
    "       ,random_state = 123\n",
    "       ,stratify = y\n",
    ")"
   ]
  },
  {
   "cell_type": "code",
   "execution_count": 33,
   "id": "ca420a47",
   "metadata": {},
   "outputs": [
    {
     "data": {
      "text/plain": [
       "array([[0.06593407, 0.046875  , 0.53932584, 0.25      ],\n",
       "       [0.        , 0.703125  , 0.41573034, 0.25      ],\n",
       "       [0.81318681, 0.296875  , 0.76404494, 0.625     ],\n",
       "       ...,\n",
       "       [0.32967033, 0.3125    , 0.59550562, 0.125     ],\n",
       "       [0.83516484, 0.359375  , 0.58426966, 0.        ],\n",
       "       [0.50549451, 0.578125  , 0.46067416, 0.125     ]])"
      ]
     },
     "execution_count": 33,
     "metadata": {},
     "output_type": "execute_result"
    }
   ],
   "source": [
    "X_train"
   ]
  },
  {
   "cell_type": "markdown",
   "id": "0a1a86c1",
   "metadata": {},
   "source": [
    "#### Função do modelo de base."
   ]
  },
  {
   "cell_type": "code",
   "execution_count": 34,
   "id": "b381657e",
   "metadata": {},
   "outputs": [],
   "source": [
    "def base_rate_model(X) :\n",
    "    y = np.zeros(X.shape[0])\n",
    "    return y"
   ]
  },
  {
   "cell_type": "markdown",
   "id": "f22afd31",
   "metadata": {},
   "source": [
    "#### Importando métodos de métrica de avaliação."
   ]
  },
  {
   "cell_type": "code",
   "execution_count": 35,
   "id": "e1f0b975",
   "metadata": {},
   "outputs": [],
   "source": [
    "from sklearn.metrics import roc_auc_score\n",
    "from sklearn.metrics import accuracy_score\n",
    "from sklearn.metrics import classification_report"
   ]
  },
  {
   "cell_type": "code",
   "execution_count": 36,
   "id": "13e4be20",
   "metadata": {},
   "outputs": [],
   "source": [
    "def accuracy_result(y_test,y_predict):\n",
    "    acc = accuracy_score(y_test, y_predict)\n",
    "    print (\"Accuracy = %2.2f\" % acc)"
   ]
  },
  {
   "cell_type": "code",
   "execution_count": 37,
   "id": "4b11fe27",
   "metadata": {},
   "outputs": [],
   "source": [
    "def roc_classification_report_results(model,y_test,y_predict):\n",
    "    roc_ = roc_auc_score(y_test, y_predict)\n",
    "    classfication_report = classification_report(y_test, y_predict)\n",
    "    \n",
    "    print (\"\\n{} AUC = {}\\n\".format(model, roc_))\n",
    "    print(classfication_report)"
   ]
  },
  {
   "cell_type": "markdown",
   "id": "a3c2c1a9",
   "metadata": {},
   "source": [
    "#### Análise do modelo de baseline"
   ]
  },
  {
   "cell_type": "code",
   "execution_count": 38,
   "id": "af36a71f",
   "metadata": {},
   "outputs": [],
   "source": [
    "y_predict = base_rate_model(X_test)"
   ]
  },
  {
   "cell_type": "code",
   "execution_count": 39,
   "id": "c5b09854",
   "metadata": {},
   "outputs": [
    {
     "name": "stdout",
     "output_type": "stream",
     "text": [
      "Accuracy = 0.76\n"
     ]
    }
   ],
   "source": [
    "accuracy_result(y_test, y_predict)"
   ]
  },
  {
   "cell_type": "code",
   "execution_count": 40,
   "id": "f4e425c4",
   "metadata": {},
   "outputs": [
    {
     "name": "stdout",
     "output_type": "stream",
     "text": [
      "\n",
      "Base Model AUC = 0.5\n",
      "\n",
      "              precision    recall  f1-score   support\n",
      "\n",
      "           0       0.76      1.00      0.86      2286\n",
      "           1       0.00      0.00      0.00       714\n",
      "\n",
      "    accuracy                           0.76      3000\n",
      "   macro avg       0.38      0.50      0.43      3000\n",
      "weighted avg       0.58      0.76      0.66      3000\n",
      "\n"
     ]
    },
    {
     "name": "stderr",
     "output_type": "stream",
     "text": [
      "F:\\py\\lib\\site-packages\\sklearn\\metrics\\_classification.py:1221: UndefinedMetricWarning: Precision and F-score are ill-defined and being set to 0.0 in labels with no predicted samples. Use `zero_division` parameter to control this behavior.\n",
      "  _warn_prf(average, modifier, msg_start, len(result))\n"
     ]
    }
   ],
   "source": [
    "roc_classification_report_results(\"Base Model\", y_test, y_predict)"
   ]
  },
  {
   "cell_type": "markdown",
   "id": "a6151ec6",
   "metadata": {},
   "source": [
    "### Modelo de Regressão Logística."
   ]
  },
  {
   "cell_type": "markdown",
   "id": "c47040d4",
   "metadata": {},
   "source": [
    "<img src=\"https://editor.analyticsvidhya.com/uploads/95588WhatsApp-Image-2020-02-11-at-8.30.11-PM.jpeg\" align=\"left\">"
   ]
  },
  {
   "cell_type": "markdown",
   "id": "24357be7",
   "metadata": {},
   "source": [
    "#### Instânciando o algoritmo."
   ]
  },
  {
   "cell_type": "code",
   "execution_count": 41,
   "id": "bdb9c775",
   "metadata": {},
   "outputs": [],
   "source": [
    "from sklearn.linear_model import LogisticRegression\n",
    "logis = LogisticRegression()"
   ]
  },
  {
   "cell_type": "markdown",
   "id": "c357eb47",
   "metadata": {},
   "source": [
    "#### Realizando o treinamento."
   ]
  },
  {
   "cell_type": "code",
   "execution_count": 42,
   "id": "1239fde2",
   "metadata": {
    "scrolled": true
   },
   "outputs": [
    {
     "data": {
      "text/plain": [
       "LogisticRegression()"
      ]
     },
     "execution_count": 42,
     "metadata": {},
     "output_type": "execute_result"
    }
   ],
   "source": [
    "logis.fit(X_train, y_train)"
   ]
  },
  {
   "cell_type": "markdown",
   "id": "bb2140e7",
   "metadata": {},
   "source": [
    "#### Calculando as predições."
   ]
  },
  {
   "cell_type": "code",
   "execution_count": 43,
   "id": "1590f565",
   "metadata": {},
   "outputs": [],
   "source": [
    "y_predict = logis.predict(X_test)"
   ]
  },
  {
   "cell_type": "markdown",
   "id": "6b7702bd",
   "metadata": {},
   "source": [
    "#### Avaliando o resultado."
   ]
  },
  {
   "cell_type": "code",
   "execution_count": 44,
   "id": "38bebb21",
   "metadata": {},
   "outputs": [
    {
     "name": "stdout",
     "output_type": "stream",
     "text": [
      "Accuracy = 0.75\n"
     ]
    }
   ],
   "source": [
    "accuracy_result(y_test, y_predict)"
   ]
  },
  {
   "cell_type": "code",
   "execution_count": 45,
   "id": "eadc8b0f",
   "metadata": {},
   "outputs": [
    {
     "name": "stdout",
     "output_type": "stream",
     "text": [
      "\n",
      "Logistic Regression AUC = 0.5053008079872368\n",
      "\n",
      "              precision    recall  f1-score   support\n",
      "\n",
      "           0       0.76      0.98      0.86      2286\n",
      "           1       0.33      0.03      0.05       714\n",
      "\n",
      "    accuracy                           0.75      3000\n",
      "   macro avg       0.55      0.51      0.46      3000\n",
      "weighted avg       0.66      0.75      0.67      3000\n",
      "\n"
     ]
    }
   ],
   "source": [
    "roc_classification_report_results(\"Logistic Regression\", y_test, y_predict)"
   ]
  },
  {
   "cell_type": "markdown",
   "id": "e7d8bc59",
   "metadata": {},
   "source": [
    "### Modelo de Arvore de decisão."
   ]
  },
  {
   "cell_type": "markdown",
   "id": "ce792132",
   "metadata": {},
   "source": [
    "<img src=\"https://www.devops.ae/wp-content/uploads/2021/04/decision-tree-classification-algorithm.png\" align=\"left\">"
   ]
  },
  {
   "cell_type": "markdown",
   "id": "809c52d2",
   "metadata": {},
   "source": [
    "#### Instânciando o algoritmo."
   ]
  },
  {
   "cell_type": "code",
   "execution_count": 46,
   "id": "c57a3d90",
   "metadata": {},
   "outputs": [],
   "source": [
    "from sklearn.tree import DecisionTreeClassifier\n",
    "dtree = DecisionTreeClassifier()"
   ]
  },
  {
   "cell_type": "markdown",
   "id": "f3703d3e",
   "metadata": {},
   "source": [
    "#### Realizando o treinamento."
   ]
  },
  {
   "cell_type": "code",
   "execution_count": 47,
   "id": "74cb730b",
   "metadata": {
    "scrolled": true
   },
   "outputs": [],
   "source": [
    "dtree = dtree.fit(X_train,y_train)"
   ]
  },
  {
   "cell_type": "markdown",
   "id": "097d60f8",
   "metadata": {},
   "source": [
    "#### Calculando as predições."
   ]
  },
  {
   "cell_type": "code",
   "execution_count": 48,
   "id": "f2df5bae",
   "metadata": {},
   "outputs": [],
   "source": [
    "y_predict = dtree.predict(X_test)"
   ]
  },
  {
   "cell_type": "markdown",
   "id": "51e4f621",
   "metadata": {},
   "source": [
    "#### Avaliando o resultado."
   ]
  },
  {
   "cell_type": "code",
   "execution_count": 49,
   "id": "caad487c",
   "metadata": {},
   "outputs": [
    {
     "name": "stdout",
     "output_type": "stream",
     "text": [
      "Accuracy = 0.72\n"
     ]
    }
   ],
   "source": [
    "accuracy_result(y_test, y_predict)"
   ]
  },
  {
   "cell_type": "code",
   "execution_count": 50,
   "id": "57bab485",
   "metadata": {},
   "outputs": [
    {
     "name": "stdout",
     "output_type": "stream",
     "text": [
      "\n",
      "Decision Tree AUC = 0.6313971782938897\n",
      "\n",
      "              precision    recall  f1-score   support\n",
      "\n",
      "           0       0.83      0.81      0.82      2286\n",
      "           1       0.42      0.46      0.44       714\n",
      "\n",
      "    accuracy                           0.72      3000\n",
      "   macro avg       0.63      0.63      0.63      3000\n",
      "weighted avg       0.73      0.72      0.73      3000\n",
      "\n"
     ]
    }
   ],
   "source": [
    "roc_classification_report_results(\"Decision Tree\", y_test, y_predict)"
   ]
  },
  {
   "cell_type": "markdown",
   "id": "8dac260e",
   "metadata": {},
   "source": [
    "### Modelo de Floresta Aleatória (Random Forest)"
   ]
  },
  {
   "cell_type": "markdown",
   "id": "7b4ceea4",
   "metadata": {},
   "source": [
    "<img src=\"https://miro.medium.com/max/1200/0*YEwFetXQGPB8aDFV\" align=\"left\">"
   ]
  },
  {
   "cell_type": "markdown",
   "id": "4386b24d",
   "metadata": {},
   "source": [
    "#### Instânciando o algoritmo."
   ]
  },
  {
   "cell_type": "code",
   "execution_count": 51,
   "id": "0006d5f7",
   "metadata": {},
   "outputs": [],
   "source": [
    "from sklearn.ensemble import RandomForestClassifier"
   ]
  },
  {
   "cell_type": "code",
   "execution_count": 52,
   "id": "522c3d4c",
   "metadata": {},
   "outputs": [],
   "source": [
    "rf = RandomForestClassifier()"
   ]
  },
  {
   "cell_type": "markdown",
   "id": "72dc8dbd",
   "metadata": {},
   "source": [
    "#### Realizando o treinamento."
   ]
  },
  {
   "cell_type": "code",
   "execution_count": 53,
   "id": "7a1c9b88",
   "metadata": {
    "scrolled": true
   },
   "outputs": [],
   "source": [
    "rf = rf.fit(X_train,y_train)"
   ]
  },
  {
   "cell_type": "markdown",
   "id": "95dc2f18",
   "metadata": {},
   "source": [
    "#### Calculando as predições."
   ]
  },
  {
   "cell_type": "code",
   "execution_count": 54,
   "id": "3c24e916",
   "metadata": {},
   "outputs": [],
   "source": [
    "y_predict = rf.predict(X_test)"
   ]
  },
  {
   "cell_type": "markdown",
   "id": "0aa4f48d",
   "metadata": {},
   "source": [
    "#### Avaliando o resultado."
   ]
  },
  {
   "cell_type": "code",
   "execution_count": 55,
   "id": "7291d7af",
   "metadata": {},
   "outputs": [
    {
     "name": "stdout",
     "output_type": "stream",
     "text": [
      "Accuracy = 0.80\n"
     ]
    }
   ],
   "source": [
    "accuracy_result(y_test, y_predict)"
   ]
  },
  {
   "cell_type": "code",
   "execution_count": 56,
   "id": "b2d3cf0d",
   "metadata": {},
   "outputs": [
    {
     "name": "stdout",
     "output_type": "stream",
     "text": [
      "\n",
      "Random Forest AUC = 0.6857286221575244\n",
      "\n",
      "              precision    recall  f1-score   support\n",
      "\n",
      "           0       0.84      0.91      0.88      2286\n",
      "           1       0.62      0.46      0.53       714\n",
      "\n",
      "    accuracy                           0.80      3000\n",
      "   macro avg       0.73      0.69      0.70      3000\n",
      "weighted avg       0.79      0.80      0.79      3000\n",
      "\n"
     ]
    }
   ],
   "source": [
    "roc_classification_report_results(\"Random Forest\", y_test, y_predict)"
   ]
  },
  {
   "cell_type": "markdown",
   "id": "b54ba7ab",
   "metadata": {},
   "source": [
    "### Pycaret"
   ]
  },
  {
   "cell_type": "markdown",
   "id": "9b13d56f",
   "metadata": {},
   "source": [
    "<img src=\"https://miro.medium.com/max/1024/0*T3u62CFmhRgur_ZZ.png\" align=\"left\">"
   ]
  },
  {
   "cell_type": "markdown",
   "id": "7033fdb9",
   "metadata": {},
   "source": [
    "<img src=\"https://i.pinimg.com/originals/28/c3/de/28c3decb69d2b89c42e3979a9565d84b.jpg\" align=\"left\">"
   ]
  },
  {
   "cell_type": "markdown",
   "id": "638e63c9",
   "metadata": {},
   "source": [
    "#### Importando os métodos."
   ]
  },
  {
   "cell_type": "code",
   "execution_count": 57,
   "id": "211b2e03",
   "metadata": {},
   "outputs": [],
   "source": [
    "from pycaret.classification import *"
   ]
  },
  {
   "cell_type": "markdown",
   "id": "76000bbf",
   "metadata": {},
   "source": [
    "#### Definindo o Setup."
   ]
  },
  {
   "cell_type": "code",
   "execution_count": 58,
   "id": "d3796dae",
   "metadata": {
    "scrolled": true,
    "tags": []
   },
   "outputs": [
    {
     "data": {
      "text/html": [
       "<style type=\"text/css\">\n",
       "#T_5f55d_row29_col1, #T_5f55d_row44_col1, #T_5f55d_row58_col1 {\n",
       "  background-color: lightgreen;\n",
       "}\n",
       "</style>\n",
       "<table id=\"T_5f55d_\">\n",
       "  <thead>\n",
       "    <tr>\n",
       "      <th class=\"blank level0\" >&nbsp;</th>\n",
       "      <th class=\"col_heading level0 col0\" >Description</th>\n",
       "      <th class=\"col_heading level0 col1\" >Value</th>\n",
       "    </tr>\n",
       "  </thead>\n",
       "  <tbody>\n",
       "    <tr>\n",
       "      <th id=\"T_5f55d_level0_row0\" class=\"row_heading level0 row0\" >0</th>\n",
       "      <td id=\"T_5f55d_row0_col0\" class=\"data row0 col0\" >session_id</td>\n",
       "      <td id=\"T_5f55d_row0_col1\" class=\"data row0 col1\" >8585</td>\n",
       "    </tr>\n",
       "    <tr>\n",
       "      <th id=\"T_5f55d_level0_row1\" class=\"row_heading level0 row1\" >1</th>\n",
       "      <td id=\"T_5f55d_row1_col0\" class=\"data row1 col0\" >Target</td>\n",
       "      <td id=\"T_5f55d_row1_col1\" class=\"data row1 col1\" >turnover</td>\n",
       "    </tr>\n",
       "    <tr>\n",
       "      <th id=\"T_5f55d_level0_row2\" class=\"row_heading level0 row2\" >2</th>\n",
       "      <td id=\"T_5f55d_row2_col0\" class=\"data row2 col0\" >Target Type</td>\n",
       "      <td id=\"T_5f55d_row2_col1\" class=\"data row2 col1\" >Binary</td>\n",
       "    </tr>\n",
       "    <tr>\n",
       "      <th id=\"T_5f55d_level0_row3\" class=\"row_heading level0 row3\" >3</th>\n",
       "      <td id=\"T_5f55d_row3_col0\" class=\"data row3 col0\" >Label Encoded</td>\n",
       "      <td id=\"T_5f55d_row3_col1\" class=\"data row3 col1\" >None</td>\n",
       "    </tr>\n",
       "    <tr>\n",
       "      <th id=\"T_5f55d_level0_row4\" class=\"row_heading level0 row4\" >4</th>\n",
       "      <td id=\"T_5f55d_row4_col0\" class=\"data row4 col0\" >Original Data</td>\n",
       "      <td id=\"T_5f55d_row4_col1\" class=\"data row4 col1\" >(14998, 5)</td>\n",
       "    </tr>\n",
       "    <tr>\n",
       "      <th id=\"T_5f55d_level0_row5\" class=\"row_heading level0 row5\" >5</th>\n",
       "      <td id=\"T_5f55d_row5_col0\" class=\"data row5 col0\" >Missing Values</td>\n",
       "      <td id=\"T_5f55d_row5_col1\" class=\"data row5 col1\" >False</td>\n",
       "    </tr>\n",
       "    <tr>\n",
       "      <th id=\"T_5f55d_level0_row6\" class=\"row_heading level0 row6\" >6</th>\n",
       "      <td id=\"T_5f55d_row6_col0\" class=\"data row6 col0\" >Numeric Features</td>\n",
       "      <td id=\"T_5f55d_row6_col1\" class=\"data row6 col1\" >4</td>\n",
       "    </tr>\n",
       "    <tr>\n",
       "      <th id=\"T_5f55d_level0_row7\" class=\"row_heading level0 row7\" >7</th>\n",
       "      <td id=\"T_5f55d_row7_col0\" class=\"data row7 col0\" >Categorical Features</td>\n",
       "      <td id=\"T_5f55d_row7_col1\" class=\"data row7 col1\" >0</td>\n",
       "    </tr>\n",
       "    <tr>\n",
       "      <th id=\"T_5f55d_level0_row8\" class=\"row_heading level0 row8\" >8</th>\n",
       "      <td id=\"T_5f55d_row8_col0\" class=\"data row8 col0\" >Ordinal Features</td>\n",
       "      <td id=\"T_5f55d_row8_col1\" class=\"data row8 col1\" >False</td>\n",
       "    </tr>\n",
       "    <tr>\n",
       "      <th id=\"T_5f55d_level0_row9\" class=\"row_heading level0 row9\" >9</th>\n",
       "      <td id=\"T_5f55d_row9_col0\" class=\"data row9 col0\" >High Cardinality Features</td>\n",
       "      <td id=\"T_5f55d_row9_col1\" class=\"data row9 col1\" >False</td>\n",
       "    </tr>\n",
       "    <tr>\n",
       "      <th id=\"T_5f55d_level0_row10\" class=\"row_heading level0 row10\" >10</th>\n",
       "      <td id=\"T_5f55d_row10_col0\" class=\"data row10 col0\" >High Cardinality Method</td>\n",
       "      <td id=\"T_5f55d_row10_col1\" class=\"data row10 col1\" >None</td>\n",
       "    </tr>\n",
       "    <tr>\n",
       "      <th id=\"T_5f55d_level0_row11\" class=\"row_heading level0 row11\" >11</th>\n",
       "      <td id=\"T_5f55d_row11_col0\" class=\"data row11 col0\" >Transformed Train Set</td>\n",
       "      <td id=\"T_5f55d_row11_col1\" class=\"data row11 col1\" >(10498, 4)</td>\n",
       "    </tr>\n",
       "    <tr>\n",
       "      <th id=\"T_5f55d_level0_row12\" class=\"row_heading level0 row12\" >12</th>\n",
       "      <td id=\"T_5f55d_row12_col0\" class=\"data row12 col0\" >Transformed Test Set</td>\n",
       "      <td id=\"T_5f55d_row12_col1\" class=\"data row12 col1\" >(4500, 4)</td>\n",
       "    </tr>\n",
       "    <tr>\n",
       "      <th id=\"T_5f55d_level0_row13\" class=\"row_heading level0 row13\" >13</th>\n",
       "      <td id=\"T_5f55d_row13_col0\" class=\"data row13 col0\" >Shuffle Train-Test</td>\n",
       "      <td id=\"T_5f55d_row13_col1\" class=\"data row13 col1\" >True</td>\n",
       "    </tr>\n",
       "    <tr>\n",
       "      <th id=\"T_5f55d_level0_row14\" class=\"row_heading level0 row14\" >14</th>\n",
       "      <td id=\"T_5f55d_row14_col0\" class=\"data row14 col0\" >Stratify Train-Test</td>\n",
       "      <td id=\"T_5f55d_row14_col1\" class=\"data row14 col1\" >True</td>\n",
       "    </tr>\n",
       "    <tr>\n",
       "      <th id=\"T_5f55d_level0_row15\" class=\"row_heading level0 row15\" >15</th>\n",
       "      <td id=\"T_5f55d_row15_col0\" class=\"data row15 col0\" >Fold Generator</td>\n",
       "      <td id=\"T_5f55d_row15_col1\" class=\"data row15 col1\" >StratifiedKFold</td>\n",
       "    </tr>\n",
       "    <tr>\n",
       "      <th id=\"T_5f55d_level0_row16\" class=\"row_heading level0 row16\" >16</th>\n",
       "      <td id=\"T_5f55d_row16_col0\" class=\"data row16 col0\" >Fold Number</td>\n",
       "      <td id=\"T_5f55d_row16_col1\" class=\"data row16 col1\" >10</td>\n",
       "    </tr>\n",
       "    <tr>\n",
       "      <th id=\"T_5f55d_level0_row17\" class=\"row_heading level0 row17\" >17</th>\n",
       "      <td id=\"T_5f55d_row17_col0\" class=\"data row17 col0\" >CPU Jobs</td>\n",
       "      <td id=\"T_5f55d_row17_col1\" class=\"data row17 col1\" >-1</td>\n",
       "    </tr>\n",
       "    <tr>\n",
       "      <th id=\"T_5f55d_level0_row18\" class=\"row_heading level0 row18\" >18</th>\n",
       "      <td id=\"T_5f55d_row18_col0\" class=\"data row18 col0\" >Use GPU</td>\n",
       "      <td id=\"T_5f55d_row18_col1\" class=\"data row18 col1\" >False</td>\n",
       "    </tr>\n",
       "    <tr>\n",
       "      <th id=\"T_5f55d_level0_row19\" class=\"row_heading level0 row19\" >19</th>\n",
       "      <td id=\"T_5f55d_row19_col0\" class=\"data row19 col0\" >Log Experiment</td>\n",
       "      <td id=\"T_5f55d_row19_col1\" class=\"data row19 col1\" >False</td>\n",
       "    </tr>\n",
       "    <tr>\n",
       "      <th id=\"T_5f55d_level0_row20\" class=\"row_heading level0 row20\" >20</th>\n",
       "      <td id=\"T_5f55d_row20_col0\" class=\"data row20 col0\" >Experiment Name</td>\n",
       "      <td id=\"T_5f55d_row20_col1\" class=\"data row20 col1\" >clf-default-name</td>\n",
       "    </tr>\n",
       "    <tr>\n",
       "      <th id=\"T_5f55d_level0_row21\" class=\"row_heading level0 row21\" >21</th>\n",
       "      <td id=\"T_5f55d_row21_col0\" class=\"data row21 col0\" >USI</td>\n",
       "      <td id=\"T_5f55d_row21_col1\" class=\"data row21 col1\" >735d</td>\n",
       "    </tr>\n",
       "    <tr>\n",
       "      <th id=\"T_5f55d_level0_row22\" class=\"row_heading level0 row22\" >22</th>\n",
       "      <td id=\"T_5f55d_row22_col0\" class=\"data row22 col0\" >Imputation Type</td>\n",
       "      <td id=\"T_5f55d_row22_col1\" class=\"data row22 col1\" >simple</td>\n",
       "    </tr>\n",
       "    <tr>\n",
       "      <th id=\"T_5f55d_level0_row23\" class=\"row_heading level0 row23\" >23</th>\n",
       "      <td id=\"T_5f55d_row23_col0\" class=\"data row23 col0\" >Iterative Imputation Iteration</td>\n",
       "      <td id=\"T_5f55d_row23_col1\" class=\"data row23 col1\" >None</td>\n",
       "    </tr>\n",
       "    <tr>\n",
       "      <th id=\"T_5f55d_level0_row24\" class=\"row_heading level0 row24\" >24</th>\n",
       "      <td id=\"T_5f55d_row24_col0\" class=\"data row24 col0\" >Numeric Imputer</td>\n",
       "      <td id=\"T_5f55d_row24_col1\" class=\"data row24 col1\" >mean</td>\n",
       "    </tr>\n",
       "    <tr>\n",
       "      <th id=\"T_5f55d_level0_row25\" class=\"row_heading level0 row25\" >25</th>\n",
       "      <td id=\"T_5f55d_row25_col0\" class=\"data row25 col0\" >Iterative Imputation Numeric Model</td>\n",
       "      <td id=\"T_5f55d_row25_col1\" class=\"data row25 col1\" >None</td>\n",
       "    </tr>\n",
       "    <tr>\n",
       "      <th id=\"T_5f55d_level0_row26\" class=\"row_heading level0 row26\" >26</th>\n",
       "      <td id=\"T_5f55d_row26_col0\" class=\"data row26 col0\" >Categorical Imputer</td>\n",
       "      <td id=\"T_5f55d_row26_col1\" class=\"data row26 col1\" >constant</td>\n",
       "    </tr>\n",
       "    <tr>\n",
       "      <th id=\"T_5f55d_level0_row27\" class=\"row_heading level0 row27\" >27</th>\n",
       "      <td id=\"T_5f55d_row27_col0\" class=\"data row27 col0\" >Iterative Imputation Categorical Model</td>\n",
       "      <td id=\"T_5f55d_row27_col1\" class=\"data row27 col1\" >None</td>\n",
       "    </tr>\n",
       "    <tr>\n",
       "      <th id=\"T_5f55d_level0_row28\" class=\"row_heading level0 row28\" >28</th>\n",
       "      <td id=\"T_5f55d_row28_col0\" class=\"data row28 col0\" >Unknown Categoricals Handling</td>\n",
       "      <td id=\"T_5f55d_row28_col1\" class=\"data row28 col1\" >least_frequent</td>\n",
       "    </tr>\n",
       "    <tr>\n",
       "      <th id=\"T_5f55d_level0_row29\" class=\"row_heading level0 row29\" >29</th>\n",
       "      <td id=\"T_5f55d_row29_col0\" class=\"data row29 col0\" >Normalize</td>\n",
       "      <td id=\"T_5f55d_row29_col1\" class=\"data row29 col1\" >True</td>\n",
       "    </tr>\n",
       "    <tr>\n",
       "      <th id=\"T_5f55d_level0_row30\" class=\"row_heading level0 row30\" >30</th>\n",
       "      <td id=\"T_5f55d_row30_col0\" class=\"data row30 col0\" >Normalize Method</td>\n",
       "      <td id=\"T_5f55d_row30_col1\" class=\"data row30 col1\" >minmax</td>\n",
       "    </tr>\n",
       "    <tr>\n",
       "      <th id=\"T_5f55d_level0_row31\" class=\"row_heading level0 row31\" >31</th>\n",
       "      <td id=\"T_5f55d_row31_col0\" class=\"data row31 col0\" >Transformation</td>\n",
       "      <td id=\"T_5f55d_row31_col1\" class=\"data row31 col1\" >False</td>\n",
       "    </tr>\n",
       "    <tr>\n",
       "      <th id=\"T_5f55d_level0_row32\" class=\"row_heading level0 row32\" >32</th>\n",
       "      <td id=\"T_5f55d_row32_col0\" class=\"data row32 col0\" >Transformation Method</td>\n",
       "      <td id=\"T_5f55d_row32_col1\" class=\"data row32 col1\" >None</td>\n",
       "    </tr>\n",
       "    <tr>\n",
       "      <th id=\"T_5f55d_level0_row33\" class=\"row_heading level0 row33\" >33</th>\n",
       "      <td id=\"T_5f55d_row33_col0\" class=\"data row33 col0\" >PCA</td>\n",
       "      <td id=\"T_5f55d_row33_col1\" class=\"data row33 col1\" >False</td>\n",
       "    </tr>\n",
       "    <tr>\n",
       "      <th id=\"T_5f55d_level0_row34\" class=\"row_heading level0 row34\" >34</th>\n",
       "      <td id=\"T_5f55d_row34_col0\" class=\"data row34 col0\" >PCA Method</td>\n",
       "      <td id=\"T_5f55d_row34_col1\" class=\"data row34 col1\" >None</td>\n",
       "    </tr>\n",
       "    <tr>\n",
       "      <th id=\"T_5f55d_level0_row35\" class=\"row_heading level0 row35\" >35</th>\n",
       "      <td id=\"T_5f55d_row35_col0\" class=\"data row35 col0\" >PCA Components</td>\n",
       "      <td id=\"T_5f55d_row35_col1\" class=\"data row35 col1\" >None</td>\n",
       "    </tr>\n",
       "    <tr>\n",
       "      <th id=\"T_5f55d_level0_row36\" class=\"row_heading level0 row36\" >36</th>\n",
       "      <td id=\"T_5f55d_row36_col0\" class=\"data row36 col0\" >Ignore Low Variance</td>\n",
       "      <td id=\"T_5f55d_row36_col1\" class=\"data row36 col1\" >False</td>\n",
       "    </tr>\n",
       "    <tr>\n",
       "      <th id=\"T_5f55d_level0_row37\" class=\"row_heading level0 row37\" >37</th>\n",
       "      <td id=\"T_5f55d_row37_col0\" class=\"data row37 col0\" >Combine Rare Levels</td>\n",
       "      <td id=\"T_5f55d_row37_col1\" class=\"data row37 col1\" >False</td>\n",
       "    </tr>\n",
       "    <tr>\n",
       "      <th id=\"T_5f55d_level0_row38\" class=\"row_heading level0 row38\" >38</th>\n",
       "      <td id=\"T_5f55d_row38_col0\" class=\"data row38 col0\" >Rare Level Threshold</td>\n",
       "      <td id=\"T_5f55d_row38_col1\" class=\"data row38 col1\" >None</td>\n",
       "    </tr>\n",
       "    <tr>\n",
       "      <th id=\"T_5f55d_level0_row39\" class=\"row_heading level0 row39\" >39</th>\n",
       "      <td id=\"T_5f55d_row39_col0\" class=\"data row39 col0\" >Numeric Binning</td>\n",
       "      <td id=\"T_5f55d_row39_col1\" class=\"data row39 col1\" >False</td>\n",
       "    </tr>\n",
       "    <tr>\n",
       "      <th id=\"T_5f55d_level0_row40\" class=\"row_heading level0 row40\" >40</th>\n",
       "      <td id=\"T_5f55d_row40_col0\" class=\"data row40 col0\" >Remove Outliers</td>\n",
       "      <td id=\"T_5f55d_row40_col1\" class=\"data row40 col1\" >False</td>\n",
       "    </tr>\n",
       "    <tr>\n",
       "      <th id=\"T_5f55d_level0_row41\" class=\"row_heading level0 row41\" >41</th>\n",
       "      <td id=\"T_5f55d_row41_col0\" class=\"data row41 col0\" >Outliers Threshold</td>\n",
       "      <td id=\"T_5f55d_row41_col1\" class=\"data row41 col1\" >None</td>\n",
       "    </tr>\n",
       "    <tr>\n",
       "      <th id=\"T_5f55d_level0_row42\" class=\"row_heading level0 row42\" >42</th>\n",
       "      <td id=\"T_5f55d_row42_col0\" class=\"data row42 col0\" >Remove Multicollinearity</td>\n",
       "      <td id=\"T_5f55d_row42_col1\" class=\"data row42 col1\" >False</td>\n",
       "    </tr>\n",
       "    <tr>\n",
       "      <th id=\"T_5f55d_level0_row43\" class=\"row_heading level0 row43\" >43</th>\n",
       "      <td id=\"T_5f55d_row43_col0\" class=\"data row43 col0\" >Multicollinearity Threshold</td>\n",
       "      <td id=\"T_5f55d_row43_col1\" class=\"data row43 col1\" >None</td>\n",
       "    </tr>\n",
       "    <tr>\n",
       "      <th id=\"T_5f55d_level0_row44\" class=\"row_heading level0 row44\" >44</th>\n",
       "      <td id=\"T_5f55d_row44_col0\" class=\"data row44 col0\" >Remove Perfect Collinearity</td>\n",
       "      <td id=\"T_5f55d_row44_col1\" class=\"data row44 col1\" >True</td>\n",
       "    </tr>\n",
       "    <tr>\n",
       "      <th id=\"T_5f55d_level0_row45\" class=\"row_heading level0 row45\" >45</th>\n",
       "      <td id=\"T_5f55d_row45_col0\" class=\"data row45 col0\" >Clustering</td>\n",
       "      <td id=\"T_5f55d_row45_col1\" class=\"data row45 col1\" >False</td>\n",
       "    </tr>\n",
       "    <tr>\n",
       "      <th id=\"T_5f55d_level0_row46\" class=\"row_heading level0 row46\" >46</th>\n",
       "      <td id=\"T_5f55d_row46_col0\" class=\"data row46 col0\" >Clustering Iteration</td>\n",
       "      <td id=\"T_5f55d_row46_col1\" class=\"data row46 col1\" >None</td>\n",
       "    </tr>\n",
       "    <tr>\n",
       "      <th id=\"T_5f55d_level0_row47\" class=\"row_heading level0 row47\" >47</th>\n",
       "      <td id=\"T_5f55d_row47_col0\" class=\"data row47 col0\" >Polynomial Features</td>\n",
       "      <td id=\"T_5f55d_row47_col1\" class=\"data row47 col1\" >False</td>\n",
       "    </tr>\n",
       "    <tr>\n",
       "      <th id=\"T_5f55d_level0_row48\" class=\"row_heading level0 row48\" >48</th>\n",
       "      <td id=\"T_5f55d_row48_col0\" class=\"data row48 col0\" >Polynomial Degree</td>\n",
       "      <td id=\"T_5f55d_row48_col1\" class=\"data row48 col1\" >None</td>\n",
       "    </tr>\n",
       "    <tr>\n",
       "      <th id=\"T_5f55d_level0_row49\" class=\"row_heading level0 row49\" >49</th>\n",
       "      <td id=\"T_5f55d_row49_col0\" class=\"data row49 col0\" >Trignometry Features</td>\n",
       "      <td id=\"T_5f55d_row49_col1\" class=\"data row49 col1\" >False</td>\n",
       "    </tr>\n",
       "    <tr>\n",
       "      <th id=\"T_5f55d_level0_row50\" class=\"row_heading level0 row50\" >50</th>\n",
       "      <td id=\"T_5f55d_row50_col0\" class=\"data row50 col0\" >Polynomial Threshold</td>\n",
       "      <td id=\"T_5f55d_row50_col1\" class=\"data row50 col1\" >None</td>\n",
       "    </tr>\n",
       "    <tr>\n",
       "      <th id=\"T_5f55d_level0_row51\" class=\"row_heading level0 row51\" >51</th>\n",
       "      <td id=\"T_5f55d_row51_col0\" class=\"data row51 col0\" >Group Features</td>\n",
       "      <td id=\"T_5f55d_row51_col1\" class=\"data row51 col1\" >False</td>\n",
       "    </tr>\n",
       "    <tr>\n",
       "      <th id=\"T_5f55d_level0_row52\" class=\"row_heading level0 row52\" >52</th>\n",
       "      <td id=\"T_5f55d_row52_col0\" class=\"data row52 col0\" >Feature Selection</td>\n",
       "      <td id=\"T_5f55d_row52_col1\" class=\"data row52 col1\" >False</td>\n",
       "    </tr>\n",
       "    <tr>\n",
       "      <th id=\"T_5f55d_level0_row53\" class=\"row_heading level0 row53\" >53</th>\n",
       "      <td id=\"T_5f55d_row53_col0\" class=\"data row53 col0\" >Feature Selection Method</td>\n",
       "      <td id=\"T_5f55d_row53_col1\" class=\"data row53 col1\" >classic</td>\n",
       "    </tr>\n",
       "    <tr>\n",
       "      <th id=\"T_5f55d_level0_row54\" class=\"row_heading level0 row54\" >54</th>\n",
       "      <td id=\"T_5f55d_row54_col0\" class=\"data row54 col0\" >Features Selection Threshold</td>\n",
       "      <td id=\"T_5f55d_row54_col1\" class=\"data row54 col1\" >None</td>\n",
       "    </tr>\n",
       "    <tr>\n",
       "      <th id=\"T_5f55d_level0_row55\" class=\"row_heading level0 row55\" >55</th>\n",
       "      <td id=\"T_5f55d_row55_col0\" class=\"data row55 col0\" >Feature Interaction</td>\n",
       "      <td id=\"T_5f55d_row55_col1\" class=\"data row55 col1\" >False</td>\n",
       "    </tr>\n",
       "    <tr>\n",
       "      <th id=\"T_5f55d_level0_row56\" class=\"row_heading level0 row56\" >56</th>\n",
       "      <td id=\"T_5f55d_row56_col0\" class=\"data row56 col0\" >Feature Ratio</td>\n",
       "      <td id=\"T_5f55d_row56_col1\" class=\"data row56 col1\" >False</td>\n",
       "    </tr>\n",
       "    <tr>\n",
       "      <th id=\"T_5f55d_level0_row57\" class=\"row_heading level0 row57\" >57</th>\n",
       "      <td id=\"T_5f55d_row57_col0\" class=\"data row57 col0\" >Interaction Threshold</td>\n",
       "      <td id=\"T_5f55d_row57_col1\" class=\"data row57 col1\" >None</td>\n",
       "    </tr>\n",
       "    <tr>\n",
       "      <th id=\"T_5f55d_level0_row58\" class=\"row_heading level0 row58\" >58</th>\n",
       "      <td id=\"T_5f55d_row58_col0\" class=\"data row58 col0\" >Fix Imbalance</td>\n",
       "      <td id=\"T_5f55d_row58_col1\" class=\"data row58 col1\" >True</td>\n",
       "    </tr>\n",
       "    <tr>\n",
       "      <th id=\"T_5f55d_level0_row59\" class=\"row_heading level0 row59\" >59</th>\n",
       "      <td id=\"T_5f55d_row59_col0\" class=\"data row59 col0\" >Fix Imbalance Method</td>\n",
       "      <td id=\"T_5f55d_row59_col1\" class=\"data row59 col1\" >SMOTE</td>\n",
       "    </tr>\n",
       "  </tbody>\n",
       "</table>\n"
      ],
      "text/plain": [
       "<pandas.io.formats.style.Styler at 0x261bf2e3b88>"
      ]
     },
     "metadata": {},
     "output_type": "display_data"
    }
   ],
   "source": [
    "s = setup( df[[\"satisfaction\",\"evaluation\",\"averageMonthlyHours\",\"yearsAtCompany\",\"turnover\"]]\n",
    "          ,target = \"turnover\"\n",
    "          ,numeric_features = [\"yearsAtCompany\"]\n",
    "          ,normalize = True\n",
    "          ,normalize_method = \"minmax\"\n",
    "          ,data_split_stratify = True\n",
    "          ,fix_imbalance = True,\n",
    "         )"
   ]
  },
  {
   "cell_type": "markdown",
   "id": "e973c5cf",
   "metadata": {
    "tags": []
   },
   "source": [
    "#### Comparando diferentes modelos."
   ]
  },
  {
   "cell_type": "code",
   "execution_count": 59,
   "id": "b7bd1193",
   "metadata": {},
   "outputs": [
    {
     "data": {
      "text/html": [
       "<style type=\"text/css\">\n",
       "#T_df4b9_ th {\n",
       "  text-align: left;\n",
       "}\n",
       "#T_df4b9_row0_col0, #T_df4b9_row0_col1, #T_df4b9_row0_col3, #T_df4b9_row0_col4, #T_df4b9_row0_col5, #T_df4b9_row0_col6, #T_df4b9_row0_col7, #T_df4b9_row1_col0, #T_df4b9_row1_col1, #T_df4b9_row1_col2, #T_df4b9_row1_col3, #T_df4b9_row1_col4, #T_df4b9_row1_col5, #T_df4b9_row1_col6, #T_df4b9_row1_col7, #T_df4b9_row2_col0, #T_df4b9_row2_col2, #T_df4b9_row2_col3, #T_df4b9_row3_col0, #T_df4b9_row3_col1, #T_df4b9_row3_col2, #T_df4b9_row3_col3, #T_df4b9_row3_col4, #T_df4b9_row3_col5, #T_df4b9_row3_col6, #T_df4b9_row3_col7, #T_df4b9_row4_col0, #T_df4b9_row4_col1, #T_df4b9_row4_col2, #T_df4b9_row4_col3, #T_df4b9_row4_col4, #T_df4b9_row4_col5, #T_df4b9_row4_col6, #T_df4b9_row4_col7, #T_df4b9_row5_col0, #T_df4b9_row5_col1, #T_df4b9_row5_col2, #T_df4b9_row5_col3, #T_df4b9_row5_col4, #T_df4b9_row5_col5, #T_df4b9_row5_col6, #T_df4b9_row5_col7, #T_df4b9_row6_col0, #T_df4b9_row6_col1, #T_df4b9_row6_col2, #T_df4b9_row6_col4, #T_df4b9_row6_col5, #T_df4b9_row6_col6, #T_df4b9_row6_col7, #T_df4b9_row7_col0, #T_df4b9_row7_col1, #T_df4b9_row7_col2, #T_df4b9_row7_col3, #T_df4b9_row7_col4, #T_df4b9_row7_col5, #T_df4b9_row7_col6, #T_df4b9_row7_col7, #T_df4b9_row8_col0, #T_df4b9_row8_col1, #T_df4b9_row8_col2, #T_df4b9_row8_col3, #T_df4b9_row8_col4, #T_df4b9_row8_col5, #T_df4b9_row8_col6, #T_df4b9_row8_col7, #T_df4b9_row9_col0, #T_df4b9_row9_col1, #T_df4b9_row9_col2, #T_df4b9_row9_col3, #T_df4b9_row9_col4, #T_df4b9_row9_col5, #T_df4b9_row9_col6, #T_df4b9_row9_col7, #T_df4b9_row10_col0, #T_df4b9_row10_col1, #T_df4b9_row10_col2, #T_df4b9_row10_col3, #T_df4b9_row10_col4, #T_df4b9_row10_col5, #T_df4b9_row10_col6, #T_df4b9_row10_col7, #T_df4b9_row11_col0, #T_df4b9_row11_col1, #T_df4b9_row11_col2, #T_df4b9_row11_col3, #T_df4b9_row11_col4, #T_df4b9_row11_col5, #T_df4b9_row11_col6, #T_df4b9_row11_col7, #T_df4b9_row12_col0, #T_df4b9_row12_col1, #T_df4b9_row12_col2, #T_df4b9_row12_col3, #T_df4b9_row12_col4, #T_df4b9_row12_col5, #T_df4b9_row12_col6, #T_df4b9_row12_col7, #T_df4b9_row13_col0, #T_df4b9_row13_col1, #T_df4b9_row13_col2, #T_df4b9_row13_col3, #T_df4b9_row13_col4, #T_df4b9_row13_col5, #T_df4b9_row13_col6, #T_df4b9_row13_col7, #T_df4b9_row14_col0, #T_df4b9_row14_col1, #T_df4b9_row14_col2, #T_df4b9_row14_col3, #T_df4b9_row14_col4, #T_df4b9_row14_col5, #T_df4b9_row14_col6, #T_df4b9_row14_col7, #T_df4b9_row15_col0, #T_df4b9_row15_col1, #T_df4b9_row15_col2, #T_df4b9_row15_col3, #T_df4b9_row15_col4, #T_df4b9_row15_col5, #T_df4b9_row15_col6, #T_df4b9_row15_col7 {\n",
       "  text-align: left;\n",
       "}\n",
       "#T_df4b9_row0_col2, #T_df4b9_row2_col1, #T_df4b9_row2_col4, #T_df4b9_row2_col5, #T_df4b9_row2_col6, #T_df4b9_row2_col7, #T_df4b9_row6_col3 {\n",
       "  text-align: left;\n",
       "  background-color: yellow;\n",
       "}\n",
       "#T_df4b9_row0_col8, #T_df4b9_row1_col8, #T_df4b9_row2_col8, #T_df4b9_row3_col8, #T_df4b9_row4_col8, #T_df4b9_row5_col8, #T_df4b9_row6_col8, #T_df4b9_row7_col8, #T_df4b9_row8_col8, #T_df4b9_row10_col8, #T_df4b9_row11_col8, #T_df4b9_row12_col8, #T_df4b9_row14_col8, #T_df4b9_row15_col8 {\n",
       "  text-align: left;\n",
       "  background-color: lightgrey;\n",
       "}\n",
       "#T_df4b9_row9_col8, #T_df4b9_row13_col8 {\n",
       "  text-align: left;\n",
       "  background-color: yellow;\n",
       "  background-color: lightgrey;\n",
       "}\n",
       "</style>\n",
       "<table id=\"T_df4b9_\">\n",
       "  <thead>\n",
       "    <tr>\n",
       "      <th class=\"blank level0\" >&nbsp;</th>\n",
       "      <th class=\"col_heading level0 col0\" >Model</th>\n",
       "      <th class=\"col_heading level0 col1\" >Accuracy</th>\n",
       "      <th class=\"col_heading level0 col2\" >AUC</th>\n",
       "      <th class=\"col_heading level0 col3\" >Recall</th>\n",
       "      <th class=\"col_heading level0 col4\" >Prec.</th>\n",
       "      <th class=\"col_heading level0 col5\" >F1</th>\n",
       "      <th class=\"col_heading level0 col6\" >Kappa</th>\n",
       "      <th class=\"col_heading level0 col7\" >MCC</th>\n",
       "      <th class=\"col_heading level0 col8\" >TT (Sec)</th>\n",
       "    </tr>\n",
       "  </thead>\n",
       "  <tbody>\n",
       "    <tr>\n",
       "      <th id=\"T_df4b9_level0_row0\" class=\"row_heading level0 row0\" >gbc</th>\n",
       "      <td id=\"T_df4b9_row0_col0\" class=\"data row0 col0\" >Gradient Boosting Classifier</td>\n",
       "      <td id=\"T_df4b9_row0_col1\" class=\"data row0 col1\" >0.8103</td>\n",
       "      <td id=\"T_df4b9_row0_col2\" class=\"data row0 col2\" >0.7718</td>\n",
       "      <td id=\"T_df4b9_row0_col3\" class=\"data row0 col3\" >0.6395</td>\n",
       "      <td id=\"T_df4b9_row0_col4\" class=\"data row0 col4\" >0.5946</td>\n",
       "      <td id=\"T_df4b9_row0_col5\" class=\"data row0 col5\" >0.6161</td>\n",
       "      <td id=\"T_df4b9_row0_col6\" class=\"data row0 col6\" >0.4904</td>\n",
       "      <td id=\"T_df4b9_row0_col7\" class=\"data row0 col7\" >0.4911</td>\n",
       "      <td id=\"T_df4b9_row0_col8\" class=\"data row0 col8\" >0.3200</td>\n",
       "    </tr>\n",
       "    <tr>\n",
       "      <th id=\"T_df4b9_level0_row1\" class=\"row_heading level0 row1\" >lightgbm</th>\n",
       "      <td id=\"T_df4b9_row1_col0\" class=\"data row1 col0\" >Light Gradient Boosting Machine</td>\n",
       "      <td id=\"T_df4b9_row1_col1\" class=\"data row1 col1\" >0.8204</td>\n",
       "      <td id=\"T_df4b9_row1_col2\" class=\"data row1 col2\" >0.7684</td>\n",
       "      <td id=\"T_df4b9_row1_col3\" class=\"data row1 col3\" >0.5954</td>\n",
       "      <td id=\"T_df4b9_row1_col4\" class=\"data row1 col4\" >0.6300</td>\n",
       "      <td id=\"T_df4b9_row1_col5\" class=\"data row1 col5\" >0.6122</td>\n",
       "      <td id=\"T_df4b9_row1_col6\" class=\"data row1 col6\" >0.4955</td>\n",
       "      <td id=\"T_df4b9_row1_col7\" class=\"data row1 col7\" >0.4959</td>\n",
       "      <td id=\"T_df4b9_row1_col8\" class=\"data row1 col8\" >0.2160</td>\n",
       "    </tr>\n",
       "    <tr>\n",
       "      <th id=\"T_df4b9_level0_row2\" class=\"row_heading level0 row2\" >catboost</th>\n",
       "      <td id=\"T_df4b9_row2_col0\" class=\"data row2 col0\" >CatBoost Classifier</td>\n",
       "      <td id=\"T_df4b9_row2_col1\" class=\"data row2 col1\" >0.8227</td>\n",
       "      <td id=\"T_df4b9_row2_col2\" class=\"data row2 col2\" >0.7667</td>\n",
       "      <td id=\"T_df4b9_row2_col3\" class=\"data row2 col3\" >0.6027</td>\n",
       "      <td id=\"T_df4b9_row2_col4\" class=\"data row2 col4\" >0.6344</td>\n",
       "      <td id=\"T_df4b9_row2_col5\" class=\"data row2 col5\" >0.6181</td>\n",
       "      <td id=\"T_df4b9_row2_col6\" class=\"data row2 col6\" >0.5028</td>\n",
       "      <td id=\"T_df4b9_row2_col7\" class=\"data row2 col7\" >0.5031</td>\n",
       "      <td id=\"T_df4b9_row2_col8\" class=\"data row2 col8\" >2.1520</td>\n",
       "    </tr>\n",
       "    <tr>\n",
       "      <th id=\"T_df4b9_level0_row3\" class=\"row_heading level0 row3\" >ada</th>\n",
       "      <td id=\"T_df4b9_row3_col0\" class=\"data row3 col0\" >Ada Boost Classifier</td>\n",
       "      <td id=\"T_df4b9_row3_col1\" class=\"data row3 col1\" >0.7872</td>\n",
       "      <td id=\"T_df4b9_row3_col2\" class=\"data row3 col2\" >0.7637</td>\n",
       "      <td id=\"T_df4b9_row3_col3\" class=\"data row3 col3\" >0.6439</td>\n",
       "      <td id=\"T_df4b9_row3_col4\" class=\"data row3 col4\" >0.5456</td>\n",
       "      <td id=\"T_df4b9_row3_col5\" class=\"data row3 col5\" >0.5902</td>\n",
       "      <td id=\"T_df4b9_row3_col6\" class=\"data row3 col6\" >0.4479</td>\n",
       "      <td id=\"T_df4b9_row3_col7\" class=\"data row3 col7\" >0.4511</td>\n",
       "      <td id=\"T_df4b9_row3_col8\" class=\"data row3 col8\" >0.1300</td>\n",
       "    </tr>\n",
       "    <tr>\n",
       "      <th id=\"T_df4b9_level0_row4\" class=\"row_heading level0 row4\" >xgboost</th>\n",
       "      <td id=\"T_df4b9_row4_col0\" class=\"data row4 col0\" >Extreme Gradient Boosting</td>\n",
       "      <td id=\"T_df4b9_row4_col1\" class=\"data row4 col1\" >0.8140</td>\n",
       "      <td id=\"T_df4b9_row4_col2\" class=\"data row4 col2\" >0.7582</td>\n",
       "      <td id=\"T_df4b9_row4_col3\" class=\"data row4 col3\" >0.5510</td>\n",
       "      <td id=\"T_df4b9_row4_col4\" class=\"data row4 col4\" >0.6236</td>\n",
       "      <td id=\"T_df4b9_row4_col5\" class=\"data row4 col5\" >0.5851</td>\n",
       "      <td id=\"T_df4b9_row4_col6\" class=\"data row4 col6\" >0.4658</td>\n",
       "      <td id=\"T_df4b9_row4_col7\" class=\"data row4 col7\" >0.4673</td>\n",
       "      <td id=\"T_df4b9_row4_col8\" class=\"data row4 col8\" >0.3920</td>\n",
       "    </tr>\n",
       "    <tr>\n",
       "      <th id=\"T_df4b9_level0_row5\" class=\"row_heading level0 row5\" >rf</th>\n",
       "      <td id=\"T_df4b9_row5_col0\" class=\"data row5 col0\" >Random Forest Classifier</td>\n",
       "      <td id=\"T_df4b9_row5_col1\" class=\"data row5 col1\" >0.7864</td>\n",
       "      <td id=\"T_df4b9_row5_col2\" class=\"data row5 col2\" >0.7460</td>\n",
       "      <td id=\"T_df4b9_row5_col3\" class=\"data row5 col3\" >0.4870</td>\n",
       "      <td id=\"T_df4b9_row5_col4\" class=\"data row5 col4\" >0.5590</td>\n",
       "      <td id=\"T_df4b9_row5_col5\" class=\"data row5 col5\" >0.5204</td>\n",
       "      <td id=\"T_df4b9_row5_col6\" class=\"data row5 col6\" >0.3839</td>\n",
       "      <td id=\"T_df4b9_row5_col7\" class=\"data row5 col7\" >0.3855</td>\n",
       "      <td id=\"T_df4b9_row5_col8\" class=\"data row5 col8\" >0.6060</td>\n",
       "    </tr>\n",
       "    <tr>\n",
       "      <th id=\"T_df4b9_level0_row6\" class=\"row_heading level0 row6\" >qda</th>\n",
       "      <td id=\"T_df4b9_row6_col0\" class=\"data row6 col0\" >Quadratic Discriminant Analysis</td>\n",
       "      <td id=\"T_df4b9_row6_col1\" class=\"data row6 col1\" >0.7004</td>\n",
       "      <td id=\"T_df4b9_row6_col2\" class=\"data row6 col2\" >0.7248</td>\n",
       "      <td id=\"T_df4b9_row6_col3\" class=\"data row6 col3\" >0.7143</td>\n",
       "      <td id=\"T_df4b9_row6_col4\" class=\"data row6 col4\" >0.4233</td>\n",
       "      <td id=\"T_df4b9_row6_col5\" class=\"data row6 col5\" >0.5316</td>\n",
       "      <td id=\"T_df4b9_row6_col6\" class=\"data row6 col6\" >0.3319</td>\n",
       "      <td id=\"T_df4b9_row6_col7\" class=\"data row6 col7\" >0.3565</td>\n",
       "      <td id=\"T_df4b9_row6_col8\" class=\"data row6 col8\" >0.0200</td>\n",
       "    </tr>\n",
       "    <tr>\n",
       "      <th id=\"T_df4b9_level0_row7\" class=\"row_heading level0 row7\" >et</th>\n",
       "      <td id=\"T_df4b9_row7_col0\" class=\"data row7 col0\" >Extra Trees Classifier</td>\n",
       "      <td id=\"T_df4b9_row7_col1\" class=\"data row7 col1\" >0.7817</td>\n",
       "      <td id=\"T_df4b9_row7_col2\" class=\"data row7 col2\" >0.7147</td>\n",
       "      <td id=\"T_df4b9_row7_col3\" class=\"data row7 col3\" >0.4794</td>\n",
       "      <td id=\"T_df4b9_row7_col4\" class=\"data row7 col4\" >0.5471</td>\n",
       "      <td id=\"T_df4b9_row7_col5\" class=\"data row7 col5\" >0.5109</td>\n",
       "      <td id=\"T_df4b9_row7_col6\" class=\"data row7 col6\" >0.3712</td>\n",
       "      <td id=\"T_df4b9_row7_col7\" class=\"data row7 col7\" >0.3726</td>\n",
       "      <td id=\"T_df4b9_row7_col8\" class=\"data row7 col8\" >0.5260</td>\n",
       "    </tr>\n",
       "    <tr>\n",
       "      <th id=\"T_df4b9_level0_row8\" class=\"row_heading level0 row8\" >knn</th>\n",
       "      <td id=\"T_df4b9_row8_col0\" class=\"data row8 col0\" >K Neighbors Classifier</td>\n",
       "      <td id=\"T_df4b9_row8_col1\" class=\"data row8 col1\" >0.6877</td>\n",
       "      <td id=\"T_df4b9_row8_col2\" class=\"data row8 col2\" >0.7138</td>\n",
       "      <td id=\"T_df4b9_row8_col3\" class=\"data row8 col3\" >0.6575</td>\n",
       "      <td id=\"T_df4b9_row8_col4\" class=\"data row8 col4\" >0.4040</td>\n",
       "      <td id=\"T_df4b9_row8_col5\" class=\"data row8 col5\" >0.5004</td>\n",
       "      <td id=\"T_df4b9_row8_col6\" class=\"data row8 col6\" >0.2916</td>\n",
       "      <td id=\"T_df4b9_row8_col7\" class=\"data row8 col7\" >0.3100</td>\n",
       "      <td id=\"T_df4b9_row8_col8\" class=\"data row8 col8\" >0.1380</td>\n",
       "    </tr>\n",
       "    <tr>\n",
       "      <th id=\"T_df4b9_level0_row9\" class=\"row_heading level0 row9\" >nb</th>\n",
       "      <td id=\"T_df4b9_row9_col0\" class=\"data row9 col0\" >Naive Bayes</td>\n",
       "      <td id=\"T_df4b9_row9_col1\" class=\"data row9 col1\" >0.6973</td>\n",
       "      <td id=\"T_df4b9_row9_col2\" class=\"data row9 col2\" >0.6963</td>\n",
       "      <td id=\"T_df4b9_row9_col3\" class=\"data row9 col3\" >0.5606</td>\n",
       "      <td id=\"T_df4b9_row9_col4\" class=\"data row9 col4\" >0.4022</td>\n",
       "      <td id=\"T_df4b9_row9_col5\" class=\"data row9 col5\" >0.4683</td>\n",
       "      <td id=\"T_df4b9_row9_col6\" class=\"data row9 col6\" >0.2646</td>\n",
       "      <td id=\"T_df4b9_row9_col7\" class=\"data row9 col7\" >0.2718</td>\n",
       "      <td id=\"T_df4b9_row9_col8\" class=\"data row9 col8\" >0.0120</td>\n",
       "    </tr>\n",
       "    <tr>\n",
       "      <th id=\"T_df4b9_level0_row10\" class=\"row_heading level0 row10\" >lr</th>\n",
       "      <td id=\"T_df4b9_row10_col0\" class=\"data row10 col0\" >Logistic Regression</td>\n",
       "      <td id=\"T_df4b9_row10_col1\" class=\"data row10 col1\" >0.6686</td>\n",
       "      <td id=\"T_df4b9_row10_col2\" class=\"data row10 col2\" >0.6855</td>\n",
       "      <td id=\"T_df4b9_row10_col3\" class=\"data row10 col3\" >0.6283</td>\n",
       "      <td id=\"T_df4b9_row10_col4\" class=\"data row10 col4\" >0.3810</td>\n",
       "      <td id=\"T_df4b9_row10_col5\" class=\"data row10 col5\" >0.4742</td>\n",
       "      <td id=\"T_df4b9_row10_col6\" class=\"data row10 col6\" >0.2529</td>\n",
       "      <td id=\"T_df4b9_row10_col7\" class=\"data row10 col7\" >0.2699</td>\n",
       "      <td id=\"T_df4b9_row10_col8\" class=\"data row10 col8\" >0.9400</td>\n",
       "    </tr>\n",
       "    <tr>\n",
       "      <th id=\"T_df4b9_level0_row11\" class=\"row_heading level0 row11\" >lda</th>\n",
       "      <td id=\"T_df4b9_row11_col0\" class=\"data row11 col0\" >Linear Discriminant Analysis</td>\n",
       "      <td id=\"T_df4b9_row11_col1\" class=\"data row11 col1\" >0.6686</td>\n",
       "      <td id=\"T_df4b9_row11_col2\" class=\"data row11 col2\" >0.6846</td>\n",
       "      <td id=\"T_df4b9_row11_col3\" class=\"data row11 col3\" >0.6187</td>\n",
       "      <td id=\"T_df4b9_row11_col4\" class=\"data row11 col4\" >0.3796</td>\n",
       "      <td id=\"T_df4b9_row11_col5\" class=\"data row11 col5\" >0.4704</td>\n",
       "      <td id=\"T_df4b9_row11_col6\" class=\"data row11 col6\" >0.2489</td>\n",
       "      <td id=\"T_df4b9_row11_col7\" class=\"data row11 col7\" >0.2647</td>\n",
       "      <td id=\"T_df4b9_row11_col8\" class=\"data row11 col8\" >0.0780</td>\n",
       "    </tr>\n",
       "    <tr>\n",
       "      <th id=\"T_df4b9_level0_row12\" class=\"row_heading level0 row12\" >dt</th>\n",
       "      <td id=\"T_df4b9_row12_col0\" class=\"data row12 col0\" >Decision Tree Classifier</td>\n",
       "      <td id=\"T_df4b9_row12_col1\" class=\"data row12 col1\" >0.7141</td>\n",
       "      <td id=\"T_df4b9_row12_col2\" class=\"data row12 col2\" >0.6333</td>\n",
       "      <td id=\"T_df4b9_row12_col3\" class=\"data row12 col3\" >0.4562</td>\n",
       "      <td id=\"T_df4b9_row12_col4\" class=\"data row12 col4\" >0.4097</td>\n",
       "      <td id=\"T_df4b9_row12_col5\" class=\"data row12 col5\" >0.4315</td>\n",
       "      <td id=\"T_df4b9_row12_col6\" class=\"data row12 col6\" >0.2414</td>\n",
       "      <td id=\"T_df4b9_row12_col7\" class=\"data row12 col7\" >0.2421</td>\n",
       "      <td id=\"T_df4b9_row12_col8\" class=\"data row12 col8\" >0.0220</td>\n",
       "    </tr>\n",
       "    <tr>\n",
       "      <th id=\"T_df4b9_level0_row13\" class=\"row_heading level0 row13\" >dummy</th>\n",
       "      <td id=\"T_df4b9_row13_col0\" class=\"data row13 col0\" >Dummy Classifier</td>\n",
       "      <td id=\"T_df4b9_row13_col1\" class=\"data row13 col1\" >0.7620</td>\n",
       "      <td id=\"T_df4b9_row13_col2\" class=\"data row13 col2\" >0.5000</td>\n",
       "      <td id=\"T_df4b9_row13_col3\" class=\"data row13 col3\" >0.0000</td>\n",
       "      <td id=\"T_df4b9_row13_col4\" class=\"data row13 col4\" >0.0000</td>\n",
       "      <td id=\"T_df4b9_row13_col5\" class=\"data row13 col5\" >0.0000</td>\n",
       "      <td id=\"T_df4b9_row13_col6\" class=\"data row13 col6\" >0.0000</td>\n",
       "      <td id=\"T_df4b9_row13_col7\" class=\"data row13 col7\" >0.0000</td>\n",
       "      <td id=\"T_df4b9_row13_col8\" class=\"data row13 col8\" >0.0120</td>\n",
       "    </tr>\n",
       "    <tr>\n",
       "      <th id=\"T_df4b9_level0_row14\" class=\"row_heading level0 row14\" >svm</th>\n",
       "      <td id=\"T_df4b9_row14_col0\" class=\"data row14 col0\" >SVM - Linear Kernel</td>\n",
       "      <td id=\"T_df4b9_row14_col1\" class=\"data row14 col1\" >0.5533</td>\n",
       "      <td id=\"T_df4b9_row14_col2\" class=\"data row14 col2\" >0.0000</td>\n",
       "      <td id=\"T_df4b9_row14_col3\" class=\"data row14 col3\" >0.4000</td>\n",
       "      <td id=\"T_df4b9_row14_col4\" class=\"data row14 col4\" >0.2952</td>\n",
       "      <td id=\"T_df4b9_row14_col5\" class=\"data row14 col5\" >0.1569</td>\n",
       "      <td id=\"T_df4b9_row14_col6\" class=\"data row14 col6\" >0.0018</td>\n",
       "      <td id=\"T_df4b9_row14_col7\" class=\"data row14 col7\" >0.0116</td>\n",
       "      <td id=\"T_df4b9_row14_col8\" class=\"data row14 col8\" >0.0660</td>\n",
       "    </tr>\n",
       "    <tr>\n",
       "      <th id=\"T_df4b9_level0_row15\" class=\"row_heading level0 row15\" >ridge</th>\n",
       "      <td id=\"T_df4b9_row15_col0\" class=\"data row15 col0\" >Ridge Classifier</td>\n",
       "      <td id=\"T_df4b9_row15_col1\" class=\"data row15 col1\" >0.6687</td>\n",
       "      <td id=\"T_df4b9_row15_col2\" class=\"data row15 col2\" >0.0000</td>\n",
       "      <td id=\"T_df4b9_row15_col3\" class=\"data row15 col3\" >0.6187</td>\n",
       "      <td id=\"T_df4b9_row15_col4\" class=\"data row15 col4\" >0.3797</td>\n",
       "      <td id=\"T_df4b9_row15_col5\" class=\"data row15 col5\" >0.4705</td>\n",
       "      <td id=\"T_df4b9_row15_col6\" class=\"data row15 col6\" >0.2490</td>\n",
       "      <td id=\"T_df4b9_row15_col7\" class=\"data row15 col7\" >0.2648</td>\n",
       "      <td id=\"T_df4b9_row15_col8\" class=\"data row15 col8\" >0.0760</td>\n",
       "    </tr>\n",
       "  </tbody>\n",
       "</table>\n"
      ],
      "text/plain": [
       "<pandas.io.formats.style.Styler at 0x261bf4e6f48>"
      ]
     },
     "metadata": {},
     "output_type": "display_data"
    }
   ],
   "source": [
    "best = compare_models(fold = 5,sort = 'AUC')"
   ]
  },
  {
   "cell_type": "markdown",
   "id": "92842df6",
   "metadata": {},
   "source": [
    "#### Criando o modelo."
   ]
  },
  {
   "cell_type": "code",
   "execution_count": 60,
   "id": "0c31e985",
   "metadata": {
    "scrolled": true
   },
   "outputs": [
    {
     "data": {
      "text/html": [
       "<style type=\"text/css\">\n",
       "#T_ec671_row5_col0, #T_ec671_row5_col1, #T_ec671_row5_col2, #T_ec671_row5_col3, #T_ec671_row5_col4, #T_ec671_row5_col5, #T_ec671_row5_col6 {\n",
       "  background: yellow;\n",
       "}\n",
       "</style>\n",
       "<table id=\"T_ec671_\">\n",
       "  <thead>\n",
       "    <tr>\n",
       "      <th class=\"blank level0\" >&nbsp;</th>\n",
       "      <th class=\"col_heading level0 col0\" >Accuracy</th>\n",
       "      <th class=\"col_heading level0 col1\" >AUC</th>\n",
       "      <th class=\"col_heading level0 col2\" >Recall</th>\n",
       "      <th class=\"col_heading level0 col3\" >Prec.</th>\n",
       "      <th class=\"col_heading level0 col4\" >F1</th>\n",
       "      <th class=\"col_heading level0 col5\" >Kappa</th>\n",
       "      <th class=\"col_heading level0 col6\" >MCC</th>\n",
       "    </tr>\n",
       "  </thead>\n",
       "  <tbody>\n",
       "    <tr>\n",
       "      <th id=\"T_ec671_level0_row0\" class=\"row_heading level0 row0\" >0</th>\n",
       "      <td id=\"T_ec671_row0_col0\" class=\"data row0 col0\" >0.8057</td>\n",
       "      <td id=\"T_ec671_row0_col1\" class=\"data row0 col1\" >0.7697</td>\n",
       "      <td id=\"T_ec671_row0_col2\" class=\"data row0 col2\" >0.6420</td>\n",
       "      <td id=\"T_ec671_row0_col3\" class=\"data row0 col3\" >0.5836</td>\n",
       "      <td id=\"T_ec671_row0_col4\" class=\"data row0 col4\" >0.6114</td>\n",
       "      <td id=\"T_ec671_row0_col5\" class=\"data row0 col5\" >0.4823</td>\n",
       "      <td id=\"T_ec671_row0_col6\" class=\"data row0 col6\" >0.4833</td>\n",
       "    </tr>\n",
       "    <tr>\n",
       "      <th id=\"T_ec671_level0_row1\" class=\"row_heading level0 row1\" >1</th>\n",
       "      <td id=\"T_ec671_row1_col0\" class=\"data row1 col0\" >0.8157</td>\n",
       "      <td id=\"T_ec671_row1_col1\" class=\"data row1 col1\" >0.7694</td>\n",
       "      <td id=\"T_ec671_row1_col2\" class=\"data row1 col2\" >0.6420</td>\n",
       "      <td id=\"T_ec671_row1_col3\" class=\"data row1 col3\" >0.6068</td>\n",
       "      <td id=\"T_ec671_row1_col4\" class=\"data row1 col4\" >0.6239</td>\n",
       "      <td id=\"T_ec671_row1_col5\" class=\"data row1 col5\" >0.5020</td>\n",
       "      <td id=\"T_ec671_row1_col6\" class=\"data row1 col6\" >0.5023</td>\n",
       "    </tr>\n",
       "    <tr>\n",
       "      <th id=\"T_ec671_level0_row2\" class=\"row_heading level0 row2\" >2</th>\n",
       "      <td id=\"T_ec671_row2_col0\" class=\"data row2 col0\" >0.8095</td>\n",
       "      <td id=\"T_ec671_row2_col1\" class=\"data row2 col1\" >0.7600</td>\n",
       "      <td id=\"T_ec671_row2_col2\" class=\"data row2 col2\" >0.6200</td>\n",
       "      <td id=\"T_ec671_row2_col3\" class=\"data row2 col3\" >0.5962</td>\n",
       "      <td id=\"T_ec671_row2_col4\" class=\"data row2 col4\" >0.6078</td>\n",
       "      <td id=\"T_ec671_row2_col5\" class=\"data row2 col5\" >0.4821</td>\n",
       "      <td id=\"T_ec671_row2_col6\" class=\"data row2 col6\" >0.4823</td>\n",
       "    </tr>\n",
       "    <tr>\n",
       "      <th id=\"T_ec671_level0_row3\" class=\"row_heading level0 row3\" >3</th>\n",
       "      <td id=\"T_ec671_row3_col0\" class=\"data row3 col0\" >0.8137</td>\n",
       "      <td id=\"T_ec671_row3_col1\" class=\"data row3 col1\" >0.7778</td>\n",
       "      <td id=\"T_ec671_row3_col2\" class=\"data row3 col2\" >0.6533</td>\n",
       "      <td id=\"T_ec671_row3_col3\" class=\"data row3 col3\" >0.5993</td>\n",
       "      <td id=\"T_ec671_row3_col4\" class=\"data row3 col4\" >0.6251</td>\n",
       "      <td id=\"T_ec671_row3_col5\" class=\"data row3 col5\" >0.5015</td>\n",
       "      <td id=\"T_ec671_row3_col6\" class=\"data row3 col6\" >0.5023</td>\n",
       "    </tr>\n",
       "    <tr>\n",
       "      <th id=\"T_ec671_level0_row4\" class=\"row_heading level0 row4\" >4</th>\n",
       "      <td id=\"T_ec671_row4_col0\" class=\"data row4 col0\" >0.8071</td>\n",
       "      <td id=\"T_ec671_row4_col1\" class=\"data row4 col1\" >0.7823</td>\n",
       "      <td id=\"T_ec671_row4_col2\" class=\"data row4 col2\" >0.6400</td>\n",
       "      <td id=\"T_ec671_row4_col3\" class=\"data row4 col3\" >0.5872</td>\n",
       "      <td id=\"T_ec671_row4_col4\" class=\"data row4 col4\" >0.6124</td>\n",
       "      <td id=\"T_ec671_row4_col5\" class=\"data row4 col5\" >0.4843</td>\n",
       "      <td id=\"T_ec671_row4_col6\" class=\"data row4 col6\" >0.4851</td>\n",
       "    </tr>\n",
       "    <tr>\n",
       "      <th id=\"T_ec671_level0_row5\" class=\"row_heading level0 row5\" >Mean</th>\n",
       "      <td id=\"T_ec671_row5_col0\" class=\"data row5 col0\" >0.8103</td>\n",
       "      <td id=\"T_ec671_row5_col1\" class=\"data row5 col1\" >0.7718</td>\n",
       "      <td id=\"T_ec671_row5_col2\" class=\"data row5 col2\" >0.6395</td>\n",
       "      <td id=\"T_ec671_row5_col3\" class=\"data row5 col3\" >0.5946</td>\n",
       "      <td id=\"T_ec671_row5_col4\" class=\"data row5 col4\" >0.6161</td>\n",
       "      <td id=\"T_ec671_row5_col5\" class=\"data row5 col5\" >0.4904</td>\n",
       "      <td id=\"T_ec671_row5_col6\" class=\"data row5 col6\" >0.4911</td>\n",
       "    </tr>\n",
       "    <tr>\n",
       "      <th id=\"T_ec671_level0_row6\" class=\"row_heading level0 row6\" >SD</th>\n",
       "      <td id=\"T_ec671_row6_col0\" class=\"data row6 col0\" >0.0038</td>\n",
       "      <td id=\"T_ec671_row6_col1\" class=\"data row6 col1\" >0.0077</td>\n",
       "      <td id=\"T_ec671_row6_col2\" class=\"data row6 col2\" >0.0108</td>\n",
       "      <td id=\"T_ec671_row6_col3\" class=\"data row6 col3\" >0.0084</td>\n",
       "      <td id=\"T_ec671_row6_col4\" class=\"data row6 col4\" >0.0070</td>\n",
       "      <td id=\"T_ec671_row6_col5\" class=\"data row6 col5\" >0.0093</td>\n",
       "      <td id=\"T_ec671_row6_col6\" class=\"data row6 col6\" >0.0092</td>\n",
       "    </tr>\n",
       "  </tbody>\n",
       "</table>\n"
      ],
      "text/plain": [
       "<pandas.io.formats.style.Styler at 0x261bf52a748>"
      ]
     },
     "metadata": {},
     "output_type": "display_data"
    }
   ],
   "source": [
    "gbc = create_model('gbc', fold = 5)"
   ]
  },
  {
   "cell_type": "markdown",
   "id": "a70577e5",
   "metadata": {},
   "source": [
    "#### Realizando o tunning do modelo."
   ]
  },
  {
   "cell_type": "code",
   "execution_count": 61,
   "id": "6c948e4c",
   "metadata": {
    "scrolled": false,
    "tags": []
   },
   "outputs": [
    {
     "data": {
      "text/html": [
       "<style type=\"text/css\">\n",
       "#T_42e2a_row5_col0, #T_42e2a_row5_col1, #T_42e2a_row5_col2, #T_42e2a_row5_col3, #T_42e2a_row5_col4, #T_42e2a_row5_col5, #T_42e2a_row5_col6 {\n",
       "  background: yellow;\n",
       "}\n",
       "</style>\n",
       "<table id=\"T_42e2a_\">\n",
       "  <thead>\n",
       "    <tr>\n",
       "      <th class=\"blank level0\" >&nbsp;</th>\n",
       "      <th class=\"col_heading level0 col0\" >Accuracy</th>\n",
       "      <th class=\"col_heading level0 col1\" >AUC</th>\n",
       "      <th class=\"col_heading level0 col2\" >Recall</th>\n",
       "      <th class=\"col_heading level0 col3\" >Prec.</th>\n",
       "      <th class=\"col_heading level0 col4\" >F1</th>\n",
       "      <th class=\"col_heading level0 col5\" >Kappa</th>\n",
       "      <th class=\"col_heading level0 col6\" >MCC</th>\n",
       "    </tr>\n",
       "  </thead>\n",
       "  <tbody>\n",
       "    <tr>\n",
       "      <th id=\"T_42e2a_level0_row0\" class=\"row_heading level0 row0\" >0</th>\n",
       "      <td id=\"T_42e2a_row0_col0\" class=\"data row0 col0\" >0.7714</td>\n",
       "      <td id=\"T_42e2a_row0_col1\" class=\"data row0 col1\" >0.7551</td>\n",
       "      <td id=\"T_42e2a_row0_col2\" class=\"data row0 col2\" >0.6300</td>\n",
       "      <td id=\"T_42e2a_row0_col3\" class=\"data row0 col3\" >0.5164</td>\n",
       "      <td id=\"T_42e2a_row0_col4\" class=\"data row0 col4\" >0.5676</td>\n",
       "      <td id=\"T_42e2a_row0_col5\" class=\"data row0 col5\" >0.4143</td>\n",
       "      <td id=\"T_42e2a_row0_col6\" class=\"data row0 col6\" >0.4181</td>\n",
       "    </tr>\n",
       "    <tr>\n",
       "      <th id=\"T_42e2a_level0_row1\" class=\"row_heading level0 row1\" >1</th>\n",
       "      <td id=\"T_42e2a_row1_col0\" class=\"data row1 col0\" >0.7867</td>\n",
       "      <td id=\"T_42e2a_row1_col1\" class=\"data row1 col1\" >0.7616</td>\n",
       "      <td id=\"T_42e2a_row1_col2\" class=\"data row1 col2\" >0.6200</td>\n",
       "      <td id=\"T_42e2a_row1_col3\" class=\"data row1 col3\" >0.5458</td>\n",
       "      <td id=\"T_42e2a_row1_col4\" class=\"data row1 col4\" >0.5805</td>\n",
       "      <td id=\"T_42e2a_row1_col5\" class=\"data row1 col5\" >0.4383</td>\n",
       "      <td id=\"T_42e2a_row1_col6\" class=\"data row1 col6\" >0.4399</td>\n",
       "    </tr>\n",
       "    <tr>\n",
       "      <th id=\"T_42e2a_level0_row2\" class=\"row_heading level0 row2\" >2</th>\n",
       "      <td id=\"T_42e2a_row2_col0\" class=\"data row2 col0\" >0.7905</td>\n",
       "      <td id=\"T_42e2a_row2_col1\" class=\"data row2 col1\" >0.7540</td>\n",
       "      <td id=\"T_42e2a_row2_col2\" class=\"data row2 col2\" >0.6160</td>\n",
       "      <td id=\"T_42e2a_row2_col3\" class=\"data row2 col3\" >0.5540</td>\n",
       "      <td id=\"T_42e2a_row2_col4\" class=\"data row2 col4\" >0.5833</td>\n",
       "      <td id=\"T_42e2a_row2_col5\" class=\"data row2 col5\" >0.4439</td>\n",
       "      <td id=\"T_42e2a_row2_col6\" class=\"data row2 col6\" >0.4450</td>\n",
       "    </tr>\n",
       "    <tr>\n",
       "      <th id=\"T_42e2a_level0_row3\" class=\"row_heading level0 row3\" >3</th>\n",
       "      <td id=\"T_42e2a_row3_col0\" class=\"data row3 col0\" >0.7918</td>\n",
       "      <td id=\"T_42e2a_row3_col1\" class=\"data row3 col1\" >0.7754</td>\n",
       "      <td id=\"T_42e2a_row3_col2\" class=\"data row3 col2\" >0.6493</td>\n",
       "      <td id=\"T_42e2a_row3_col3\" class=\"data row3 col3\" >0.5529</td>\n",
       "      <td id=\"T_42e2a_row3_col4\" class=\"data row3 col4\" >0.5972</td>\n",
       "      <td id=\"T_42e2a_row3_col5\" class=\"data row3 col5\" >0.4581</td>\n",
       "      <td id=\"T_42e2a_row3_col6\" class=\"data row3 col6\" >0.4608</td>\n",
       "    </tr>\n",
       "    <tr>\n",
       "      <th id=\"T_42e2a_level0_row4\" class=\"row_heading level0 row4\" >4</th>\n",
       "      <td id=\"T_42e2a_row4_col0\" class=\"data row4 col0\" >0.7870</td>\n",
       "      <td id=\"T_42e2a_row4_col1\" class=\"data row4 col1\" >0.7822</td>\n",
       "      <td id=\"T_42e2a_row4_col2\" class=\"data row4 col2\" >0.6700</td>\n",
       "      <td id=\"T_42e2a_row4_col3\" class=\"data row4 col3\" >0.5429</td>\n",
       "      <td id=\"T_42e2a_row4_col4\" class=\"data row4 col4\" >0.5998</td>\n",
       "      <td id=\"T_42e2a_row4_col5\" class=\"data row4 col5\" >0.4569</td>\n",
       "      <td id=\"T_42e2a_row4_col6\" class=\"data row4 col6\" >0.4616</td>\n",
       "    </tr>\n",
       "    <tr>\n",
       "      <th id=\"T_42e2a_level0_row5\" class=\"row_heading level0 row5\" >Mean</th>\n",
       "      <td id=\"T_42e2a_row5_col0\" class=\"data row5 col0\" >0.7855</td>\n",
       "      <td id=\"T_42e2a_row5_col1\" class=\"data row5 col1\" >0.7657</td>\n",
       "      <td id=\"T_42e2a_row5_col2\" class=\"data row5 col2\" >0.6371</td>\n",
       "      <td id=\"T_42e2a_row5_col3\" class=\"data row5 col3\" >0.5424</td>\n",
       "      <td id=\"T_42e2a_row5_col4\" class=\"data row5 col4\" >0.5857</td>\n",
       "      <td id=\"T_42e2a_row5_col5\" class=\"data row5 col5\" >0.4423</td>\n",
       "      <td id=\"T_42e2a_row5_col6\" class=\"data row5 col6\" >0.4451</td>\n",
       "    </tr>\n",
       "    <tr>\n",
       "      <th id=\"T_42e2a_level0_row6\" class=\"row_heading level0 row6\" >SD</th>\n",
       "      <td id=\"T_42e2a_row6_col0\" class=\"data row6 col0\" >0.0073</td>\n",
       "      <td id=\"T_42e2a_row6_col1\" class=\"data row6 col1\" >0.0112</td>\n",
       "      <td id=\"T_42e2a_row6_col2\" class=\"data row6 col2\" >0.0201</td>\n",
       "      <td id=\"T_42e2a_row6_col3\" class=\"data row6 col3\" >0.0137</td>\n",
       "      <td id=\"T_42e2a_row6_col4\" class=\"data row6 col4\" >0.0118</td>\n",
       "      <td id=\"T_42e2a_row6_col5\" class=\"data row6 col5\" >0.0159</td>\n",
       "      <td id=\"T_42e2a_row6_col6\" class=\"data row6 col6\" >0.0160</td>\n",
       "    </tr>\n",
       "  </tbody>\n",
       "</table>\n"
      ],
      "text/plain": [
       "<pandas.io.formats.style.Styler at 0x261bf319508>"
      ]
     },
     "metadata": {},
     "output_type": "display_data"
    }
   ],
   "source": [
    "tuned_gbc = tune_model(gbc\n",
    "                      ,fold = 5\n",
    "                      ,custom_grid = {\n",
    "                                      \"learning_rate\":[0.1,0.2,0.5]\n",
    "                                     ,\"n_estimators\":[100,500,1000]\n",
    "                                     ,\"min_samples_split\":[1,2,5,10]\n",
    "                                     ,\"max_depth\":[1,3,9]\n",
    "                                     }\n",
    "                      ,optimize = 'AUC')"
   ]
  },
  {
   "cell_type": "code",
   "execution_count": 62,
   "id": "aedd53f6",
   "metadata": {},
   "outputs": [
    {
     "data": {
      "text/html": [
       "<div>\n",
       "<style scoped>\n",
       "    .dataframe tbody tr th:only-of-type {\n",
       "        vertical-align: middle;\n",
       "    }\n",
       "\n",
       "    .dataframe tbody tr th {\n",
       "        vertical-align: top;\n",
       "    }\n",
       "\n",
       "    .dataframe thead th {\n",
       "        text-align: right;\n",
       "    }\n",
       "</style>\n",
       "<table border=\"1\" class=\"dataframe\">\n",
       "  <thead>\n",
       "    <tr style=\"text-align: right;\">\n",
       "      <th></th>\n",
       "      <th>department</th>\n",
       "      <th>salary</th>\n",
       "      <th>averageMonthlyHours</th>\n",
       "      <th>projectCount</th>\n",
       "      <th>satisfaction</th>\n",
       "      <th>evaluation</th>\n",
       "      <th>yearsAtCompany</th>\n",
       "      <th>workAccident</th>\n",
       "      <th>turnover</th>\n",
       "      <th>Label</th>\n",
       "      <th>Score</th>\n",
       "    </tr>\n",
       "  </thead>\n",
       "  <tbody>\n",
       "    <tr>\n",
       "      <th>0</th>\n",
       "      <td>7</td>\n",
       "      <td>1</td>\n",
       "      <td>266</td>\n",
       "      <td>2</td>\n",
       "      <td>38.0</td>\n",
       "      <td>53.0</td>\n",
       "      <td>3</td>\n",
       "      <td>0</td>\n",
       "      <td>1</td>\n",
       "      <td>1</td>\n",
       "      <td>0.8121</td>\n",
       "    </tr>\n",
       "    <tr>\n",
       "      <th>1</th>\n",
       "      <td>7</td>\n",
       "      <td>2</td>\n",
       "      <td>252</td>\n",
       "      <td>5</td>\n",
       "      <td>80.0</td>\n",
       "      <td>86.0</td>\n",
       "      <td>6</td>\n",
       "      <td>0</td>\n",
       "      <td>1</td>\n",
       "      <td>1</td>\n",
       "      <td>0.5661</td>\n",
       "    </tr>\n",
       "    <tr>\n",
       "      <th>2</th>\n",
       "      <td>7</td>\n",
       "      <td>2</td>\n",
       "      <td>289</td>\n",
       "      <td>7</td>\n",
       "      <td>11.0</td>\n",
       "      <td>88.0</td>\n",
       "      <td>4</td>\n",
       "      <td>0</td>\n",
       "      <td>1</td>\n",
       "      <td>1</td>\n",
       "      <td>0.7748</td>\n",
       "    </tr>\n",
       "    <tr>\n",
       "      <th>3</th>\n",
       "      <td>7</td>\n",
       "      <td>1</td>\n",
       "      <td>275</td>\n",
       "      <td>5</td>\n",
       "      <td>72.0</td>\n",
       "      <td>87.0</td>\n",
       "      <td>5</td>\n",
       "      <td>0</td>\n",
       "      <td>1</td>\n",
       "      <td>1</td>\n",
       "      <td>0.7646</td>\n",
       "    </tr>\n",
       "    <tr>\n",
       "      <th>4</th>\n",
       "      <td>7</td>\n",
       "      <td>1</td>\n",
       "      <td>292</td>\n",
       "      <td>2</td>\n",
       "      <td>37.0</td>\n",
       "      <td>52.0</td>\n",
       "      <td>3</td>\n",
       "      <td>0</td>\n",
       "      <td>1</td>\n",
       "      <td>1</td>\n",
       "      <td>0.8098</td>\n",
       "    </tr>\n",
       "    <tr>\n",
       "      <th>...</th>\n",
       "      <td>...</td>\n",
       "      <td>...</td>\n",
       "      <td>...</td>\n",
       "      <td>...</td>\n",
       "      <td>...</td>\n",
       "      <td>...</td>\n",
       "      <td>...</td>\n",
       "      <td>...</td>\n",
       "      <td>...</td>\n",
       "      <td>...</td>\n",
       "      <td>...</td>\n",
       "    </tr>\n",
       "    <tr>\n",
       "      <th>14993</th>\n",
       "      <td>9</td>\n",
       "      <td>1</td>\n",
       "      <td>279</td>\n",
       "      <td>6</td>\n",
       "      <td>76.0</td>\n",
       "      <td>83.0</td>\n",
       "      <td>6</td>\n",
       "      <td>0</td>\n",
       "      <td>1</td>\n",
       "      <td>1</td>\n",
       "      <td>0.5046</td>\n",
       "    </tr>\n",
       "    <tr>\n",
       "      <th>14994</th>\n",
       "      <td>8</td>\n",
       "      <td>1</td>\n",
       "      <td>287</td>\n",
       "      <td>2</td>\n",
       "      <td>40.0</td>\n",
       "      <td>57.0</td>\n",
       "      <td>3</td>\n",
       "      <td>0</td>\n",
       "      <td>1</td>\n",
       "      <td>1</td>\n",
       "      <td>0.6858</td>\n",
       "    </tr>\n",
       "    <tr>\n",
       "      <th>14995</th>\n",
       "      <td>8</td>\n",
       "      <td>1</td>\n",
       "      <td>253</td>\n",
       "      <td>2</td>\n",
       "      <td>37.0</td>\n",
       "      <td>48.0</td>\n",
       "      <td>3</td>\n",
       "      <td>0</td>\n",
       "      <td>1</td>\n",
       "      <td>1</td>\n",
       "      <td>0.8174</td>\n",
       "    </tr>\n",
       "    <tr>\n",
       "      <th>14996</th>\n",
       "      <td>8</td>\n",
       "      <td>1</td>\n",
       "      <td>288</td>\n",
       "      <td>2</td>\n",
       "      <td>37.0</td>\n",
       "      <td>53.0</td>\n",
       "      <td>3</td>\n",
       "      <td>0</td>\n",
       "      <td>1</td>\n",
       "      <td>1</td>\n",
       "      <td>0.8047</td>\n",
       "    </tr>\n",
       "    <tr>\n",
       "      <th>14997</th>\n",
       "      <td>8</td>\n",
       "      <td>1</td>\n",
       "      <td>272</td>\n",
       "      <td>6</td>\n",
       "      <td>11.0</td>\n",
       "      <td>96.0</td>\n",
       "      <td>4</td>\n",
       "      <td>0</td>\n",
       "      <td>1</td>\n",
       "      <td>1</td>\n",
       "      <td>0.8008</td>\n",
       "    </tr>\n",
       "  </tbody>\n",
       "</table>\n",
       "<p>14998 rows × 11 columns</p>\n",
       "</div>"
      ],
      "text/plain": [
       "       department  salary  averageMonthlyHours  projectCount  satisfaction  \\\n",
       "0               7       1                  266             2          38.0   \n",
       "1               7       2                  252             5          80.0   \n",
       "2               7       2                  289             7          11.0   \n",
       "3               7       1                  275             5          72.0   \n",
       "4               7       1                  292             2          37.0   \n",
       "...           ...     ...                  ...           ...           ...   \n",
       "14993           9       1                  279             6          76.0   \n",
       "14994           8       1                  287             2          40.0   \n",
       "14995           8       1                  253             2          37.0   \n",
       "14996           8       1                  288             2          37.0   \n",
       "14997           8       1                  272             6          11.0   \n",
       "\n",
       "       evaluation  yearsAtCompany  workAccident  turnover  Label   Score  \n",
       "0            53.0               3             0         1      1  0.8121  \n",
       "1            86.0               6             0         1      1  0.5661  \n",
       "2            88.0               4             0         1      1  0.7748  \n",
       "3            87.0               5             0         1      1  0.7646  \n",
       "4            52.0               3             0         1      1  0.8098  \n",
       "...           ...             ...           ...       ...    ...     ...  \n",
       "14993        83.0               6             0         1      1  0.5046  \n",
       "14994        57.0               3             0         1      1  0.6858  \n",
       "14995        48.0               3             0         1      1  0.8174  \n",
       "14996        53.0               3             0         1      1  0.8047  \n",
       "14997        96.0               4             0         1      1  0.8008  \n",
       "\n",
       "[14998 rows x 11 columns]"
      ]
     },
     "execution_count": 62,
     "metadata": {},
     "output_type": "execute_result"
    }
   ],
   "source": [
    "predict_model(gbc, data=df)"
   ]
  },
  {
   "cell_type": "markdown",
   "id": "3cd42d99",
   "metadata": {},
   "source": [
    "#### Finalizando o modelo."
   ]
  },
  {
   "cell_type": "code",
   "execution_count": 63,
   "id": "f6818049",
   "metadata": {},
   "outputs": [],
   "source": [
    "final_model = finalize_model(gbc)"
   ]
  },
  {
   "cell_type": "code",
   "execution_count": 64,
   "id": "1832ae71",
   "metadata": {},
   "outputs": [
    {
     "name": "stdout",
     "output_type": "stream",
     "text": [
      "Transformation Pipeline and Model Successfully Saved\n"
     ]
    },
    {
     "data": {
      "text/plain": [
       "(Pipeline(memory=None,\n",
       "          steps=[('dtypes',\n",
       "                  DataTypes_Auto_infer(categorical_features=[],\n",
       "                                       display_types=True, features_todrop=[],\n",
       "                                       id_columns=[],\n",
       "                                       ml_usecase='classification',\n",
       "                                       numerical_features=['yearsAtCompany'],\n",
       "                                       target='turnover', time_features=[])),\n",
       "                 ('imputer',\n",
       "                  Simple_Imputer(categorical_strategy='not_available',\n",
       "                                 fill_value_categorical=None,\n",
       "                                 fill_value_numerical=...\n",
       "                                             learning_rate=0.1, loss='deviance',\n",
       "                                             max_depth=3, max_features=None,\n",
       "                                             max_leaf_nodes=None,\n",
       "                                             min_impurity_decrease=0.0,\n",
       "                                             min_impurity_split=None,\n",
       "                                             min_samples_leaf=1,\n",
       "                                             min_samples_split=2,\n",
       "                                             min_weight_fraction_leaf=0.0,\n",
       "                                             n_estimators=100,\n",
       "                                             n_iter_no_change=None,\n",
       "                                             presort='deprecated',\n",
       "                                             random_state=8585, subsample=1.0,\n",
       "                                             tol=0.0001, validation_fraction=0.1,\n",
       "                                             verbose=0, warm_start=False)]],\n",
       "          verbose=False),\n",
       " 'model.pkl')"
      ]
     },
     "execution_count": 64,
     "metadata": {},
     "output_type": "execute_result"
    }
   ],
   "source": [
    "save_model(final_model,'model')"
   ]
  },
  {
   "cell_type": "markdown",
   "id": "4d664e1e",
   "metadata": {},
   "source": [
    "#### Transferindo os arquivos para o Data Lake."
   ]
  },
  {
   "cell_type": "markdown",
   "id": "2ef10017",
   "metadata": {},
   "source": [
    "#### Modelo de Classificação."
   ]
  },
  {
   "cell_type": "code",
   "execution_count": 65,
   "id": "f076049e",
   "metadata": {},
   "outputs": [
    {
     "data": {
      "text/plain": [
       "<minio.helpers.ObjectWriteResult at 0x26192ae2108>"
      ]
     },
     "execution_count": 65,
     "metadata": {},
     "output_type": "execute_result"
    }
   ],
   "source": [
    "client.fput_object(\n",
    "    \"curated\",\n",
    "    \"model.pkl\",\n",
    "    \"model.pkl\"\n",
    ")"
   ]
  },
  {
   "cell_type": "markdown",
   "id": "62f7a5a8",
   "metadata": {},
   "source": [
    "#### Exportando o conjunto de dados para o disco."
   ]
  },
  {
   "cell_type": "code",
   "execution_count": 66,
   "id": "f3a980e7",
   "metadata": {
    "scrolled": true
   },
   "outputs": [],
   "source": [
    "df[[\"satisfaction\",\"evaluation\",\"averageMonthlyHours\",\"yearsAtCompany\",\"turnover\"]].to_csv(\"dataset.csv\",index=False)"
   ]
  },
  {
   "cell_type": "code",
   "execution_count": 67,
   "id": "a78f5bfa",
   "metadata": {
    "scrolled": true
   },
   "outputs": [
    {
     "data": {
      "text/plain": [
       "<minio.helpers.ObjectWriteResult at 0x261b57a2c08>"
      ]
     },
     "execution_count": 67,
     "metadata": {},
     "output_type": "execute_result"
    }
   ],
   "source": [
    "client.fput_object(\n",
    "    \"curated\",\n",
    "    \"dataset.csv\",\n",
    "    \"dataset.csv\"\n",
    ")"
   ]
  }
 ],
 "metadata": {
  "kernelspec": {
   "display_name": "Python 3 (ipykernel)",
   "language": "python",
   "name": "python3"
  },
  "language_info": {
   "codemirror_mode": {
    "name": "ipython",
    "version": 3
   },
   "file_extension": ".py",
   "mimetype": "text/x-python",
   "name": "python",
   "nbconvert_exporter": "python",
   "pygments_lexer": "ipython3",
   "version": "3.9.7"
  }
 },
 "nbformat": 4,
 "nbformat_minor": 5
}
